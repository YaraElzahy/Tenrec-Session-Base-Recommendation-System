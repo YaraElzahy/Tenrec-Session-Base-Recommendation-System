{
  "cells": [
    {
      "cell_type": "markdown",
      "metadata": {
        "id": "r35_eppo2-Rw"
      },
      "source": [
        "# CISC-839 Data Analytics Project"
      ]
    },
    {
      "cell_type": "markdown",
      "metadata": {
        "id": "Z1xBo13v2-Rz"
      },
      "source": [
        "## A Session Based - Recommendation System\n",
        "\n",
        "This Sysyem is a session-based recommendation system, powered by the Ternec dataset. Leveraging the [Tenrec: A Large-scale Multipurpose Benchmark Dataset for Recommender Systems](https://proceedings.neurips.cc/paper_files/paper/2022/file/4ad4fc1528374422dd7a69dea9e72948-Paper-Datasets_and_Benchmarks.pdf) Paper, we aim to deliver personalized recommendations that adapt to users' session-specific preferences in real-time. Join us as we revolutionize the way users discover content by harnessing the power of session-based modeling and the rich insights provided by the Ternec dataset."
      ]
    },
    {
      "cell_type": "markdown",
      "metadata": {
        "id": "70koxp542-Rz"
      },
      "source": [
        "---"
      ]
    },
    {
      "cell_type": "markdown",
      "metadata": {
        "id": "iGvdffcr2-R0"
      },
      "source": [
        "## Team Members\n",
        "- Adham Mokhtar\n",
        "- Manar El-Ghobashy\n",
        "- Yara Hassan\n",
        "- Yara El-Zahy"
      ]
    },
    {
      "cell_type": "markdown",
      "metadata": {
        "id": "ncneL4c62-R0"
      },
      "source": [
        "---"
      ]
    },
    {
      "cell_type": "markdown",
      "metadata": {
        "id": "pwLLFCQl2-R1"
      },
      "source": [
        "## Some Explainations"
      ]
    },
    {
      "cell_type": "markdown",
      "metadata": {
        "id": "j7UoqwpG2-R1"
      },
      "source": [
        "A recommendation system is like having a smart computer friend that suggests things you might like based on the things you already enjoy. It helps you discover new things that you'll love!\n"
      ]
    },
    {
      "cell_type": "markdown",
      "metadata": {
        "id": "gogGqV7u2-R1"
      },
      "source": [
        "There are three main types of recommendation systems:\n",
        "1. Content-Based: It recommends things based on the features of what you already like. For example, if you enjoy action movies, it will suggest more action movies.\n",
        "2. Collaborative Filtering: It recommends things based on what other people with similar tastes enjoy. If someone similar to you likes a certain video game, it will suggest that game to you.\n",
        "3. Hybrid: This combines different methods to give you even better recommendations. It uses both the features of what you like and what other people like to suggest things you'll enjoy."
      ]
    },
    {
      "cell_type": "markdown",
      "metadata": {
        "id": "F0CQANHF2-R1"
      },
      "source": [
        "\"Session-based\" and \"cold start\" are specific challenges or scenarios that can occur in recommendation systems:\n",
        "- Session-based Recommendations: This means giving recommendations based on what you're doing right now. For example, if you're browsing a website, it suggests things related to what you're looking at.\n",
        "- Cold Start Problem: This happens when the system doesn't know much about a new user or item. It's like when you join a new website or they add new things. The system has to find other ways to give you recommendations since it doesn't have much information yet."
      ]
    },
    {
      "cell_type": "markdown",
      "metadata": {
        "id": "I80jBma82-R2"
      },
      "source": [
        "In this notebook (project) we will use collaborative filtering to try solving the session-based challenge."
      ]
    },
    {
      "cell_type": "markdown",
      "metadata": {
        "id": "5XZ4w27d2-R2"
      },
      "source": [
        "For session-based recommendations, a type of recommendation system called \"Sequential Recommendation\" is more suitable."
      ]
    },
    {
      "cell_type": "markdown",
      "metadata": {
        "id": "p8i1F9QM2-R2"
      },
      "source": [
        "- Sequential Recommendation systems are specifically designed to make recommendations based on a user's current session or sequence of actions within a single browsing session. These systems analyze the order and context of the user's interactions to understand their immediate preferences and provide relevant suggestions.\n",
        "- In a session-based recommendation system, the focus is on capturing the user's current interests and recommending items that align with those interests. This type of system takes into account the sequence of actions, such as clicks, views, or purchases, during a session to make accurate and timely recommendations."
      ]
    },
    {
      "cell_type": "markdown",
      "metadata": {
        "id": "64VKMVXP2-R3"
      },
      "source": [
        "---"
      ]
    },
    {
      "cell_type": "markdown",
      "metadata": {
        "id": "aW_AzokE2-R3"
      },
      "source": [
        "## Recommended Pipline\n",
        "- Data Preprocessing\n",
        "- Feature Engineering\n",
        "- Session Representation\n",
        "- Train-Test-Validation Split\n",
        "- Model Selection\n",
        "    - Model Training\n",
        "    - Model Evaluation\n",
        "    - Hyperparameter Tuning\n",
        "    - Performance Analysis"
      ]
    },
    {
      "cell_type": "markdown",
      "metadata": {
        "id": "qY7MQUlS2-R3"
      },
      "source": [
        "---"
      ]
    },
    {
      "cell_type": "markdown",
      "metadata": {
        "id": "P2lt11vw2-R3"
      },
      "source": [
        "## Import Libraries"
      ]
    },
    {
      "cell_type": "code",
      "execution_count": null,
      "metadata": {
        "id": "Fphn0FjI2-R3"
      },
      "outputs": [],
      "source": [
        "# Importing necessary libraries\n",
        "import numpy as np\n",
        "import pandas as pd\n",
        "import torch\n",
        "\n",
        "# Importing the SASRec recommendation model\n",
        "from model.sasrec import SASRec\n",
        "\n",
        "# Importing the SummaryWriter from PyTorch for TensorBoard logging\n",
        "from torch.utils.tensorboard import SummaryWriter\n",
        "\n",
        "# Importing other utility functions and modules\n",
        "import random\n",
        "from utils import trainer, dataset\n",
        "import argparse\n",
        "import os\n",
        "\n",
        "# Importing libraries for graph plotting\n",
        "import seaborn as sns\n",
        "import matplotlib.pyplot as plt\n",
        "\n",
        "%matplotlib inline"
      ]
    },
    {
      "cell_type": "code",
      "execution_count": null,
      "metadata": {
        "id": "3KgR_xc62-R4"
      },
      "outputs": [],
      "source": [
        "seed = 5\n",
        "random.seed(seed)\n",
        "os.environ['PYTHONHASHSEED'] = str(seed)\n",
        "np.random.seed(seed)\n",
        "torch.manual_seed(seed)\n",
        "torch.cuda.manual_seed(seed)\n",
        "torch.cuda.manual_seed_all(seed)\n",
        "torch.backends.cudnn.benchmark = False\n",
        "torch.backends.cudnn.deterministic = True\n",
        "writer = SummaryWriter()"
      ]
    },
    {
      "cell_type": "markdown",
      "metadata": {
        "id": "KX8elFB62-R4"
      },
      "source": [
        "---"
      ]
    },
    {
      "cell_type": "markdown",
      "metadata": {
        "id": "SJoNwdA02-R4"
      },
      "source": [
        "## Useful/Common Methods"
      ]
    },
    {
      "cell_type": "code",
      "execution_count": null,
      "metadata": {
        "id": "_OLbD3b82-R4"
      },
      "outputs": [],
      "source": [
        "# Display bar plots for the top 10 value counts of each DataFrame column.\n",
        "\n",
        "def display_value_counts_bar(df, ncols):\n",
        "    nrows = int(np.ceil(len(df.columns)/ncols))\n",
        "    if nrows > 1:\n",
        "        _, axes = plt.subplots(nrows = nrows, ncols = ncols, figsize=(20, 20))\n",
        "    else:\n",
        "        _, axes = plt.subplots(nrows = nrows, ncols = ncols, figsize=(10, 5))\n",
        "\n",
        "    row_index = 0\n",
        "    for index, column in enumerate(df.columns):\n",
        "        if (index != 0) and (index % ncols == 0):\n",
        "            row_index += 1\n",
        "\n",
        "        if nrows > 1:\n",
        "            ax = axes[row_index, index % ncols]\n",
        "        else:\n",
        "            ax = axes[index]\n",
        "\n",
        "        ax.set_title(column)\n",
        "        ax.tick_params(axis = 'x', labelrotation = 180)\n",
        "\n",
        "        top_counts = df[column].value_counts().sort_values(ascending = False).head(10)\n",
        "        top_counts.plot.bar(ax=ax)\n",
        "\n",
        "    plt.tight_layout()\n",
        "    plt.show()"
      ]
    },
    {
      "cell_type": "code",
      "execution_count": 1,
      "metadata": {
        "id": "mJIW7CaD2-R5"
      },
      "outputs": [],
      "source": [
        "# Display a heatmap to visualize the pairwise correlation between numeric columns in the DataFrame 'data'.\n",
        "\n",
        "def correlation(data):\n",
        "    plt.figure(figsize = (20, 20))\n",
        "    sns.set(font_scale=0.7)\n",
        "    sns.heatmap(np.round(data._get_numeric_data().corr(), 2), annot = True, cmap=\"Greens\")\n",
        "    plt.show()"
      ]
    },
    {
      "cell_type": "code",
      "execution_count": null,
      "metadata": {
        "id": "X4j39OTu2-R5"
      },
      "outputs": [],
      "source": [
        "# Generate and display bar plots to show the value counts of 'column2' within each category of 'column1'.\n",
        "def display_value_counts_between(data, column1, column2):\n",
        "    data.groupby(column1)[column2].value_counts().plot.bar()"
      ]
    },
    {
      "cell_type": "code",
      "execution_count": null,
      "metadata": {
        "id": "XHZKlEQg2-R5"
      },
      "outputs": [],
      "source": [
        "## Calculate the sum of 'column2' for each category in 'column1', then display the top 20 sums in a bar plot.\n",
        "\n",
        "def display_sum_between(data, column1, column2):\n",
        "    data.groupby(column1)[column2].apply('sum').sort_values(ascending=False).head(20).plot.bar()\n"
      ]
    },
    {
      "cell_type": "markdown",
      "metadata": {
        "id": "g439cj3K2-R5"
      },
      "source": [
        "---"
      ]
    },
    {
      "cell_type": "markdown",
      "metadata": {
        "id": "aEZhHy9Y2-R5"
      },
      "source": [
        "## Data Acquisition"
      ]
    },
    {
      "cell_type": "markdown",
      "metadata": {
        "id": "IIma63Kb2-R5"
      },
      "source": [
        "The four datasets used in this paper are raw datasets:\n",
        "- `QK-video.csv`\n",
        "- `QK-article.csv`\n",
        "- `QB-video.csv`\n",
        "- `QB-article.csv`\n",
        "\n",
        "All task-specific datasets are extracted from these datasets.\n",
        "\n",
        "Subdataset:\n",
        "\n",
        "1. `ctr_data_1M.csv` is used in CTR task (Section 3.1) and Multi-Task Learning  (Section 3.3).\n",
        "\n",
        "2. `cold_data.csv` (Table 7, Section 3.6), `cold_data_1.csv`, `cold_data_0.3.csv`, `cold_data_0.7.csv` are used for the Cold-Start task (see Appendix Table 5).\n",
        "\n",
        "3. `task_0.csv`, `task_1.csv`, `task_2.csv`, `task_3.csv` are used in Lifelong Learning (see Section 3.7, Table 8).\n",
        "\n",
        "4. `sbr_data_1M.csv` is used in Session-based Recommendation (Section 3.2), Transfer Learning (Section 3.4, used as pre-training dataset), User Profile Prediction (Section 3.5), Model Compression (Section 3.8), Model Training Speedup (Section 3.9).\n",
        "\n",
        "Note that:\n",
        "\n",
        "1. Model Inference Speedup Task (Section 3.10): the dataset is `QB-video.csv`, and Transfer Learning Task (Section 3.4): target dataset is also `QB-video.csv`.\n",
        "\n",
        "2. We sort the items at the user level in order of click time, so the time information is implicit in the order of the items.\n",
        "\n",
        "Example:\n",
        "| userid | itemid |\n",
        "| ---    | ---    |\n",
        "| 2345   | 12     |\n",
        "| 2345   | 5      |\n",
        "| 2345   | 61     |\n",
        "| 2345   | 78     |\n",
        "| 2345   | 35     |\n",
        "\n",
        "The click sequence of user 2345 is [12, 5, 61, 78, 35].\n"
      ]
    },
    {
      "cell_type": "markdown",
      "metadata": {
        "id": "zkXksvE12-R5"
      },
      "source": [
        "We report baseline results evaluated on QK-video-1M here. Results of the full QK-video\n",
        "datasets will be present in the leaderboard. Following the common practice [61], we simply filter\n",
        "out sessions with length shorter than 10. Given that the average session length is 28.34, we set the\n",
        "maximum session lengths to 30. Session length less than 30 will be padded with zero, otherwise only\n",
        "recent 30 interactions are kept. After pre-processing, we obtain 928,562 users, 1,189,341 items and\n",
        "37,823,609 clicking interactions. We keep the last item in the session for testing, the second to last\n",
        "for validating, and the remaining for training."
      ]
    },
    {
      "cell_type": "markdown",
      "metadata": {
        "id": "LyOPaMtM2-R5"
      },
      "source": [
        "So we will use `sbr_data_1M.csv`."
      ]
    },
    {
      "cell_type": "code",
      "execution_count": null,
      "metadata": {
        "colab": {
          "base_uri": "https://localhost:8080/"
        },
        "id": "FwR6MYSN2-R5",
        "outputId": "e48c3fc8-b72c-48bb-ec34-1af54b96c897"
      },
      "outputs": [
        {
          "name": "stderr",
          "output_type": "stream",
          "text": [
            "C:\\Users\\adham\\AppData\\Local\\Temp\\ipykernel_12540\\2220777238.py:1: DtypeWarning: Columns (6) have mixed types. Specify dtype option on import or set low_memory=False.\n",
            "  data = pd.read_csv('sbr_data_1M.csv')\n"
          ]
        }
      ],
      "source": [
        "#read the sbr_data_1M csv data\n",
        "data = pd.read_csv('sbr_data_1M.csv')"
      ]
    },
    {
      "cell_type": "code",
      "execution_count": null,
      "metadata": {
        "colab": {
          "base_uri": "https://localhost:8080/",
          "height": 206
        },
        "id": "Kyk5Hll92-R5",
        "outputId": "15f29410-0d01-461a-a954-ea0d576f9b1d"
      },
      "outputs": [
        {
          "data": {
            "text/html": [
              "<div>\n",
              "<style scoped>\n",
              "    .dataframe tbody tr th:only-of-type {\n",
              "        vertical-align: middle;\n",
              "    }\n",
              "\n",
              "    .dataframe tbody tr th {\n",
              "        vertical-align: top;\n",
              "    }\n",
              "\n",
              "    .dataframe thead th {\n",
              "        text-align: right;\n",
              "    }\n",
              "</style>\n",
              "<table border=\"1\" class=\"dataframe\">\n",
              "  <thead>\n",
              "    <tr style=\"text-align: right;\">\n",
              "      <th></th>\n",
              "      <th>user_id</th>\n",
              "      <th>item_id</th>\n",
              "      <th>click</th>\n",
              "      <th>follow</th>\n",
              "      <th>like</th>\n",
              "      <th>share</th>\n",
              "      <th>video_category</th>\n",
              "      <th>watching_times</th>\n",
              "      <th>gender</th>\n",
              "      <th>age</th>\n",
              "    </tr>\n",
              "  </thead>\n",
              "  <tbody>\n",
              "    <tr>\n",
              "      <th>0</th>\n",
              "      <td>1</td>\n",
              "      <td>1</td>\n",
              "      <td>1</td>\n",
              "      <td>0</td>\n",
              "      <td>0</td>\n",
              "      <td>0</td>\n",
              "      <td>1</td>\n",
              "      <td>1</td>\n",
              "      <td>1</td>\n",
              "      <td>4</td>\n",
              "    </tr>\n",
              "    <tr>\n",
              "      <th>1</th>\n",
              "      <td>1</td>\n",
              "      <td>2</td>\n",
              "      <td>1</td>\n",
              "      <td>0</td>\n",
              "      <td>0</td>\n",
              "      <td>0</td>\n",
              "      <td>1</td>\n",
              "      <td>1</td>\n",
              "      <td>1</td>\n",
              "      <td>4</td>\n",
              "    </tr>\n",
              "    <tr>\n",
              "      <th>2</th>\n",
              "      <td>1</td>\n",
              "      <td>3</td>\n",
              "      <td>1</td>\n",
              "      <td>0</td>\n",
              "      <td>0</td>\n",
              "      <td>0</td>\n",
              "      <td>0</td>\n",
              "      <td>1</td>\n",
              "      <td>1</td>\n",
              "      <td>4</td>\n",
              "    </tr>\n",
              "    <tr>\n",
              "      <th>3</th>\n",
              "      <td>1</td>\n",
              "      <td>80936</td>\n",
              "      <td>1</td>\n",
              "      <td>0</td>\n",
              "      <td>0</td>\n",
              "      <td>0</td>\n",
              "      <td>1</td>\n",
              "      <td>1</td>\n",
              "      <td>1</td>\n",
              "      <td>4</td>\n",
              "    </tr>\n",
              "    <tr>\n",
              "      <th>4</th>\n",
              "      <td>1</td>\n",
              "      <td>781</td>\n",
              "      <td>1</td>\n",
              "      <td>0</td>\n",
              "      <td>0</td>\n",
              "      <td>0</td>\n",
              "      <td>1</td>\n",
              "      <td>1</td>\n",
              "      <td>1</td>\n",
              "      <td>4</td>\n",
              "    </tr>\n",
              "  </tbody>\n",
              "</table>\n",
              "</div>"
            ],
            "text/plain": [
              "   user_id  item_id  click  follow  like  share video_category  \\\n",
              "0        1        1      1       0     0      0              1   \n",
              "1        1        2      1       0     0      0              1   \n",
              "2        1        3      1       0     0      0              0   \n",
              "3        1    80936      1       0     0      0              1   \n",
              "4        1      781      1       0     0      0              1   \n",
              "\n",
              "   watching_times  gender  age  \n",
              "0               1       1    4  \n",
              "1               1       1    4  \n",
              "2               1       1    4  \n",
              "3               1       1    4  \n",
              "4               1       1    4  "
            ]
          },
          "execution_count": 8,
          "metadata": {},
          "output_type": "execute_result"
        }
      ],
      "source": [
        "#display the first five record // rows of the dataset\n",
        "data.head()"
      ]
    },
    {
      "cell_type": "code",
      "execution_count": null,
      "metadata": {
        "colab": {
          "base_uri": "https://localhost:8080/"
        },
        "id": "EU6lYjf02-R6",
        "outputId": "8f765546-ad20-4658-9d52-acfe824da6c9"
      },
      "outputs": [
        {
          "name": "stdout",
          "output_type": "stream",
          "text": [
            "<class 'pandas.core.frame.DataFrame'>\n",
            "RangeIndex: 38300254 entries, 0 to 38300253\n",
            "Data columns (total 10 columns):\n",
            " #   Column          Dtype \n",
            "---  ------          ----- \n",
            " 0   user_id         int64 \n",
            " 1   item_id         int64 \n",
            " 2   click           int64 \n",
            " 3   follow          int64 \n",
            " 4   like            int64 \n",
            " 5   share           int64 \n",
            " 6   video_category  object\n",
            " 7   watching_times  int64 \n",
            " 8   gender          int64 \n",
            " 9   age             int64 \n",
            "dtypes: int64(9), object(1)\n",
            "memory usage: 2.9+ GB\n"
          ]
        }
      ],
      "source": [
        "#displaying  information about the data\n",
        "data.info()"
      ]
    },
    {
      "cell_type": "markdown",
      "metadata": {
        "id": "aT_ls-ZP2-R6"
      },
      "source": [
        "---"
      ]
    },
    {
      "cell_type": "markdown",
      "metadata": {
        "id": "ye6TqlTE2-R6"
      },
      "source": [
        "## Data Preprocessing\n",
        "\n",
        "- Duplicate Removal\n",
        "- Missing Value Handling\n",
        "- Wrong Entry Handling\n",
        "- Normalization or Scaling"
      ]
    },
    {
      "cell_type": "markdown",
      "metadata": {
        "id": "-zzpeeAR2-R6"
      },
      "source": [
        "### Duplicate Removal\n",
        "Remove the duplicates from the database."
      ]
    },
    {
      "cell_type": "code",
      "execution_count": null,
      "metadata": {
        "colab": {
          "base_uri": "https://localhost:8080/"
        },
        "id": "FC8vyPqs2-R6",
        "outputId": "37362c7e-5bdb-4d1e-fdf4-b69d5d941617"
      },
      "outputs": [
        {
          "data": {
            "text/plain": [
              "26455"
            ]
          },
          "execution_count": 10,
          "metadata": {},
          "output_type": "execute_result"
        }
      ],
      "source": [
        "# check duplicates in the dataset\n",
        "data.duplicated().sum()"
      ]
    },
    {
      "cell_type": "code",
      "execution_count": null,
      "metadata": {
        "id": "JkbXphbu2-R6"
      },
      "outputs": [],
      "source": [
        "# Duplicate Removal\n",
        "data.drop_duplicates(inplace=True)"
      ]
    },
    {
      "cell_type": "markdown",
      "metadata": {
        "id": "kpEFYuSy2-R6"
      },
      "source": [
        "### Missing Value Handling\n",
        "Data doesn't contain missing values"
      ]
    },
    {
      "cell_type": "code",
      "execution_count": null,
      "metadata": {
        "colab": {
          "base_uri": "https://localhost:8080/"
        },
        "id": "KcAe2ccU2-R7",
        "outputId": "d3d6065c-dcd6-4d8d-e029-c0f53a2f25bd"
      },
      "outputs": [
        {
          "data": {
            "text/plain": [
              "user_id           0\n",
              "item_id           0\n",
              "click             0\n",
              "follow            0\n",
              "like              0\n",
              "share             0\n",
              "video_category    0\n",
              "watching_times    0\n",
              "gender            0\n",
              "age               0\n",
              "dtype: int64"
            ]
          },
          "execution_count": 12,
          "metadata": {},
          "output_type": "execute_result"
        }
      ],
      "source": [
        "#sun nulls in the dataset\n",
        "data.isnull().sum()"
      ]
    },
    {
      "cell_type": "markdown",
      "metadata": {
        "id": "2UedX4Nf2-R7"
      },
      "source": [
        "### Wrong Entry Handling\n",
        "`video_category` contains some wrong values as (`\\N`), and it contains some (`0`) and (`1`) as type `object` not `int64`."
      ]
    },
    {
      "cell_type": "code",
      "execution_count": null,
      "metadata": {
        "colab": {
          "base_uri": "https://localhost:8080/",
          "height": 463
        },
        "id": "dOuXhWHX2-R7",
        "outputId": "3196b108-90a5-45ac-cf32-116c6b3f146f"
      },
      "outputs": [
        {
          "data": {
            "text/plain": [
              "<Axes: >"
            ]
          },
          "execution_count": 13,
          "metadata": {},
          "output_type": "execute_result"
        },
        {
          "data": {
            "image/png": "[encoded data removed]",
            "text/plain": [
              "<Figure size 640x480 with 1 Axes>"
            ]
          },
          "metadata": {},
          "output_type": "display_data"
        }
      ],
      "source": [
        "#Visualize 'video_category' distribution using a bar plot.\n",
        "data['video_category'].value_counts().plot.bar()"
      ]
    },
    {
      "cell_type": "code",
      "execution_count": null,
      "metadata": {
        "id": "nYhtBKpO2-R7"
      },
      "outputs": [],
      "source": [
        "# drop `\\N` records in video_category\n",
        "data = data[data['video_category'] != \"\\\\N\"]\n",
        "data['video_category'] = data['video_category'].astype('int')"
      ]
    },
    {
      "cell_type": "markdown",
      "metadata": {
        "id": "82-G1Wz-2-R8"
      },
      "source": [
        "### Normalization or Scaling"
      ]
    },
    {
      "cell_type": "code",
      "execution_count": null,
      "metadata": {
        "colab": {
          "base_uri": "https://localhost:8080/",
          "height": 466
        },
        "id": "ou_x4CWd2-R8",
        "outputId": "c9223457-bd2c-49fd-8a25-ac7bab258f7b"
      },
      "outputs": [
        {
          "data": {
            "text/plain": [
              "<Axes: >"
            ]
          },
          "execution_count": 15,
          "metadata": {},
          "output_type": "execute_result"
        },
        {
          "data": {
            "image/png": "[encoded data removed]",
            "text/plain": [
              "<Figure size 640x480 with 1 Axes>"
            ]
          },
          "metadata": {},
          "output_type": "display_data"
        }
      ],
      "source": [
        "#Display a bar plot showing the top 10 most frequent values in the 'watching_times' column.\n",
        "data['watching_times'].value_counts().head(10).plot.bar()"
      ]
    },
    {
      "cell_type": "markdown",
      "metadata": {
        "id": "LO6adL6H2-R8"
      },
      "source": [
        "---"
      ]
    },
    {
      "cell_type": "markdown",
      "metadata": {
        "id": "kSw0qdW22-R8"
      },
      "source": [
        "## Data Analysis (ERD)"
      ]
    },
    {
      "cell_type": "markdown",
      "metadata": {
        "id": "pHjv6-at2-R8"
      },
      "source": [
        "#### Value Counts\n",
        "display top 10 value counts for each feature (column)"
      ]
    },
    {
      "cell_type": "code",
      "execution_count": null,
      "metadata": {
        "colab": {
          "base_uri": "https://localhost:8080/",
          "height": 1000
        },
        "id": "yiOYQop02-R8",
        "outputId": "6cfed20a-b2be-400c-9fc0-56950759a77f"
      },
      "outputs": [
        {
          "data": {
            "image/png": "[encoded data removed]",
            "text/plain": [
              "<Figure size 2000x2000 with 10 Axes>"
            ]
          },
          "metadata": {},
          "output_type": "display_data"
        }
      ],
      "source": [
        "#Display bar plots for the top 10 value counts of each column in the 'data' DataFrame. Subplots organized in 2 columns per row\n",
        "display_value_counts_bar(data, 2)"
      ]
    },
    {
      "cell_type": "markdown",
      "metadata": {
        "id": "_OkrTNSl2-R8"
      },
      "source": [
        "### Video Categories"
      ]
    },
    {
      "cell_type": "code",
      "execution_count": null,
      "metadata": {
        "colab": {
          "base_uri": "https://localhost:8080/",
          "height": 488
        },
        "id": "Rs9AGOhM2-R8",
        "outputId": "547922d9-e2f4-4888-b0dc-a1343507528f"
      },
      "outputs": [
        {
          "data": {
            "image/png": "[encoded data removed]",
            "text/plain": [
              "<Figure size 640x480 with 1 Axes>"
            ]
          },
          "metadata": {},
          "output_type": "display_data"
        }
      ],
      "source": [
        "#Display bar plots to visualize value counts of 'age' within each category of 'video_category' in the 'data' DataFrame.\n",
        "display_value_counts_between(data, 'video_category', 'age')"
      ]
    },
    {
      "cell_type": "code",
      "execution_count": null,
      "metadata": {
        "colab": {
          "base_uri": "https://localhost:8080/",
          "height": 488
        },
        "id": "FXaLOK712-R8",
        "outputId": "ce5c7ca7-85b5-45dc-f77f-0dd33aeb257b"
      },
      "outputs": [
        {
          "data": {
            "image/png": "[encoded data removed]",
            "text/plain": [
              "<Figure size 640x480 with 1 Axes>"
            ]
          },
          "metadata": {},
          "output_type": "display_data"
        }
      ],
      "source": [
        "#Display bar plots to visualize value counts of 'gender' within each category of 'video_category' in the 'data' DataFrame.\n",
        "display_value_counts_between(data, 'video_category', 'gender')"
      ]
    },
    {
      "cell_type": "markdown",
      "metadata": {
        "id": "PVwxcctl2-R9"
      },
      "source": [
        "### Gender Distribution"
      ]
    },
    {
      "cell_type": "code",
      "execution_count": null,
      "metadata": {
        "colab": {
          "base_uri": "https://localhost:8080/"
        },
        "id": "uv9Hk_E-2-R9",
        "outputId": "6ca89b22-54e4-468d-b411-380a0864c6ce"
      },
      "outputs": [
        {
          "data": {
            "text/plain": [
              "0.6200979118651748"
            ]
          },
          "execution_count": 19,
          "metadata": {},
          "output_type": "execute_result"
        }
      ],
      "source": [
        "\n",
        "#Calculate the correlation between the 'gender' and 'age' columns in the 'data' DataFrame.\n",
        "data['gender'].corr(data['age'])"
      ]
    },
    {
      "cell_type": "code",
      "execution_count": null,
      "metadata": {
        "colab": {
          "base_uri": "https://localhost:8080/",
          "height": 488
        },
        "id": "yX7JP08B2-R9",
        "outputId": "07e92a41-e02c-4595-d91d-3edba1045e8c"
      },
      "outputs": [
        {
          "data": {
            "image/png": "[encoded data removed]",
            "text/plain": [
              "<Figure size 640x480 with 1 Axes>"
            ]
          },
          "metadata": {},
          "output_type": "display_data"
        }
      ],
      "source": [
        "display_value_counts_between(data, 'gender', 'age')"
      ]
    },
    {
      "cell_type": "markdown",
      "metadata": {
        "id": "QDUsebaF2-R9"
      },
      "source": [
        "### Items Analysis"
      ]
    },
    {
      "cell_type": "code",
      "execution_count": null,
      "metadata": {
        "colab": {
          "base_uri": "https://localhost:8080/",
          "height": 468
        },
        "id": "rT56FjP-2-R9",
        "outputId": "42156308-6711-4a4d-baa3-b18393fdab4c"
      },
      "outputs": [
        {
          "data": {
            "text/plain": [
              "<Axes: >"
            ]
          },
          "execution_count": 21,
          "metadata": {},
          "output_type": "execute_result"
        },
        {
          "data": {
            "image/png": "[encoded data removed]",
            "text/plain": [
              "<Figure size 640x480 with 1 Axes>"
            ]
          },
          "metadata": {},
          "output_type": "display_data"
        }
      ],
      "source": [
        "#Display a bar plot of the top 20 most frequent 'item_id' values in the 'data' DataFrame.\n",
        "data['item_id'].value_counts().sort_values(ascending=False).head(20).plot.bar()"
      ]
    },
    {
      "cell_type": "code",
      "execution_count": null,
      "metadata": {
        "colab": {
          "base_uri": "https://localhost:8080/",
          "height": 480
        },
        "id": "Ms1XvGwG2-R9",
        "outputId": "6bc2ac4e-4db5-4a39-b96e-76c7722bb178"
      },
      "outputs": [
        {
          "data": {
            "image/png": "[encoded data removed]",
            "text/plain": [
              "<Figure size 640x480 with 1 Axes>"
            ]
          },
          "metadata": {},
          "output_type": "display_data"
        }
      ],
      "source": [
        "#Calculate the sum of 'follow', 'share', and 'like' to create a new column 'interactions' in the 'data' DataFrame.\n",
        "#Display the sum of 'interactions' for each 'item_id' in a bar plot using the 'display_sum_between' method.\n",
        "#Drop the 'interactions' column from the 'data' DataFrame to clean up the temporary column.\n",
        "data['interactions'] = data['follow'] + data['share'] + data['like']\n",
        "display_sum_between(data, 'item_id', 'interactions')\n",
        "data.drop(columns=['interactions'], axis=1, inplace=True)"
      ]
    },
    {
      "cell_type": "code",
      "execution_count": null,
      "metadata": {
        "colab": {
          "base_uri": "https://localhost:8080/",
          "height": 471
        },
        "id": "a1JoOiqK2-R9",
        "outputId": "8876315f-f139-4dc5-8656-68d052fc2915"
      },
      "outputs": [
        {
          "data": {
            "image/png": "[encoded data removed]",
            "text/plain": [
              "<Figure size 640x480 with 1 Axes>"
            ]
          },
          "metadata": {},
          "output_type": "display_data"
        }
      ],
      "source": [
        "#Calculate the sum of 'watching_times' for each 'item_id' in the 'data' DataFrame.\n",
        "#Display the top 20 sums of 'watching_times' using a bar plot with the 'display_sum_between' method.\n",
        "display_sum_between(data, 'item_id', 'watching_times')"
      ]
    },
    {
      "cell_type": "code",
      "execution_count": null,
      "metadata": {
        "colab": {
          "base_uri": "https://localhost:8080/",
          "height": 470
        },
        "id": "1dqGKjBR2-R9",
        "outputId": "ddc6e82c-8659-4c0a-aab7-6a85cb7cb448"
      },
      "outputs": [
        {
          "data": {
            "text/plain": [
              "<Axes: >"
            ]
          },
          "execution_count": 24,
          "metadata": {},
          "output_type": "execute_result"
        },
        {
          "data": {
            "image/png": "[encoded data removed]",
            "text/plain": [
              "<Figure size 640x480 with 1 Axes>"
            ]
          },
          "metadata": {},
          "output_type": "display_data"
        }
      ],
      "source": [
        "#Calculate the mean age for each 'item_id' group in the 'data' DataFrame and round the values to the nearest integer.\n",
        "#Count the occurrences of each rounded mean age and display them in a bar plot.\n",
        "np.round(data.groupby('item_id')['age'].transform('mean'), 0).value_counts().plot.bar()"
      ]
    },
    {
      "cell_type": "code",
      "execution_count": null,
      "metadata": {
        "id": "UcGTTbbYWXPD",
        "outputId": "c38607bc-8e4d-4a1d-8cec-5170403048f6"
      },
      "outputs": [
        {
          "data": {
            "text/html": [
              "<div>\n",
              "<style scoped>\n",
              "    .dataframe tbody tr th:only-of-type {\n",
              "        vertical-align: middle;\n",
              "    }\n",
              "\n",
              "    .dataframe tbody tr th {\n",
              "        vertical-align: top;\n",
              "    }\n",
              "\n",
              "    .dataframe thead th {\n",
              "        text-align: right;\n",
              "    }\n",
              "</style>\n",
              "<table border=\"1\" class=\"dataframe\">\n",
              "  <thead>\n",
              "    <tr style=\"text-align: right;\">\n",
              "      <th></th>\n",
              "      <th>user_id</th>\n",
              "      <th>item_id</th>\n",
              "      <th>click</th>\n",
              "      <th>follow</th>\n",
              "      <th>like</th>\n",
              "      <th>share</th>\n",
              "      <th>video_category</th>\n",
              "      <th>watching_times</th>\n",
              "      <th>gender</th>\n",
              "      <th>age</th>\n",
              "    </tr>\n",
              "  </thead>\n",
              "  <tbody>\n",
              "    <tr>\n",
              "      <th>438</th>\n",
              "      <td>11</td>\n",
              "      <td>141</td>\n",
              "      <td>1</td>\n",
              "      <td>0</td>\n",
              "      <td>0</td>\n",
              "      <td>0</td>\n",
              "      <td>1</td>\n",
              "      <td>2</td>\n",
              "      <td>1</td>\n",
              "      <td>3</td>\n",
              "    </tr>\n",
              "    <tr>\n",
              "      <th>439</th>\n",
              "      <td>11</td>\n",
              "      <td>142</td>\n",
              "      <td>1</td>\n",
              "      <td>0</td>\n",
              "      <td>0</td>\n",
              "      <td>0</td>\n",
              "      <td>1</td>\n",
              "      <td>1</td>\n",
              "      <td>1</td>\n",
              "      <td>3</td>\n",
              "    </tr>\n",
              "    <tr>\n",
              "      <th>440</th>\n",
              "      <td>11</td>\n",
              "      <td>143</td>\n",
              "      <td>1</td>\n",
              "      <td>0</td>\n",
              "      <td>1</td>\n",
              "      <td>0</td>\n",
              "      <td>1</td>\n",
              "      <td>5</td>\n",
              "      <td>1</td>\n",
              "      <td>3</td>\n",
              "    </tr>\n",
              "    <tr>\n",
              "      <th>441</th>\n",
              "      <td>11</td>\n",
              "      <td>144</td>\n",
              "      <td>1</td>\n",
              "      <td>0</td>\n",
              "      <td>0</td>\n",
              "      <td>0</td>\n",
              "      <td>1</td>\n",
              "      <td>2</td>\n",
              "      <td>1</td>\n",
              "      <td>3</td>\n",
              "    </tr>\n",
              "    <tr>\n",
              "      <th>442</th>\n",
              "      <td>11</td>\n",
              "      <td>145</td>\n",
              "      <td>1</td>\n",
              "      <td>0</td>\n",
              "      <td>0</td>\n",
              "      <td>0</td>\n",
              "      <td>1</td>\n",
              "      <td>2</td>\n",
              "      <td>1</td>\n",
              "      <td>3</td>\n",
              "    </tr>\n",
              "    <tr>\n",
              "      <th>...</th>\n",
              "      <td>...</td>\n",
              "      <td>...</td>\n",
              "      <td>...</td>\n",
              "      <td>...</td>\n",
              "      <td>...</td>\n",
              "      <td>...</td>\n",
              "      <td>...</td>\n",
              "      <td>...</td>\n",
              "      <td>...</td>\n",
              "      <td>...</td>\n",
              "    </tr>\n",
              "    <tr>\n",
              "      <th>2680550</th>\n",
              "      <td>58221</td>\n",
              "      <td>6487</td>\n",
              "      <td>1</td>\n",
              "      <td>0</td>\n",
              "      <td>1</td>\n",
              "      <td>0</td>\n",
              "      <td>1</td>\n",
              "      <td>2</td>\n",
              "      <td>1</td>\n",
              "      <td>3</td>\n",
              "    </tr>\n",
              "    <tr>\n",
              "      <th>2680551</th>\n",
              "      <td>58221</td>\n",
              "      <td>3180</td>\n",
              "      <td>1</td>\n",
              "      <td>0</td>\n",
              "      <td>0</td>\n",
              "      <td>0</td>\n",
              "      <td>1</td>\n",
              "      <td>3</td>\n",
              "      <td>1</td>\n",
              "      <td>3</td>\n",
              "    </tr>\n",
              "    <tr>\n",
              "      <th>2680552</th>\n",
              "      <td>58221</td>\n",
              "      <td>3591</td>\n",
              "      <td>1</td>\n",
              "      <td>0</td>\n",
              "      <td>0</td>\n",
              "      <td>0</td>\n",
              "      <td>1</td>\n",
              "      <td>2</td>\n",
              "      <td>1</td>\n",
              "      <td>3</td>\n",
              "    </tr>\n",
              "    <tr>\n",
              "      <th>2680553</th>\n",
              "      <td>58221</td>\n",
              "      <td>852</td>\n",
              "      <td>1</td>\n",
              "      <td>0</td>\n",
              "      <td>0</td>\n",
              "      <td>0</td>\n",
              "      <td>0</td>\n",
              "      <td>1</td>\n",
              "      <td>1</td>\n",
              "      <td>3</td>\n",
              "    </tr>\n",
              "    <tr>\n",
              "      <th>2680554</th>\n",
              "      <td>58221</td>\n",
              "      <td>9905</td>\n",
              "      <td>1</td>\n",
              "      <td>0</td>\n",
              "      <td>0</td>\n",
              "      <td>0</td>\n",
              "      <td>1</td>\n",
              "      <td>1</td>\n",
              "      <td>1</td>\n",
              "      <td>3</td>\n",
              "    </tr>\n",
              "  </tbody>\n",
              "</table>\n",
              "<p>1000000 rows × 10 columns</p>\n",
              "</div>"
            ],
            "text/plain": [
              "         user_id  item_id  click  follow  like  share  video_category  \\\n",
              "438           11      141      1       0     0      0               1   \n",
              "439           11      142      1       0     0      0               1   \n",
              "440           11      143      1       0     1      0               1   \n",
              "441           11      144      1       0     0      0               1   \n",
              "442           11      145      1       0     0      0               1   \n",
              "...          ...      ...    ...     ...   ...    ...             ...   \n",
              "2680550    58221     6487      1       0     1      0               1   \n",
              "2680551    58221     3180      1       0     0      0               1   \n",
              "2680552    58221     3591      1       0     0      0               1   \n",
              "2680553    58221      852      1       0     0      0               0   \n",
              "2680554    58221     9905      1       0     0      0               1   \n",
              "\n",
              "         watching_times  gender  age  \n",
              "438                   2       1    3  \n",
              "439                   1       1    3  \n",
              "440                   5       1    3  \n",
              "441                   2       1    3  \n",
              "442                   2       1    3  \n",
              "...                 ...     ...  ...  \n",
              "2680550               2       1    3  \n",
              "2680551               3       1    3  \n",
              "2680552               2       1    3  \n",
              "2680553               1       1    3  \n",
              "2680554               1       1    3  \n",
              "\n",
              "[1000000 rows x 10 columns]"
            ]
          },
          "execution_count": 25,
          "metadata": {},
          "output_type": "execute_result"
        }
      ],
      "source": [
        "#Extract a subset of the 'data' DataFrame containing the first one million rows with age equal to 3.\n",
        "age1 = data[data['age'] == 3]\n",
        "age1 = age1[0:1000000]\n",
        "age1"
      ]
    },
    {
      "cell_type": "code",
      "execution_count": null,
      "metadata": {
        "id": "4WjcYGUAWXPD",
        "outputId": "6d001948-8f3b-4c7f-c9ab-225dce61e94d"
      },
      "outputs": [
        {
          "data": {
            "text/html": [
              "<div>\n",
              "<style scoped>\n",
              "    .dataframe tbody tr th:only-of-type {\n",
              "        vertical-align: middle;\n",
              "    }\n",
              "\n",
              "    .dataframe tbody tr th {\n",
              "        vertical-align: top;\n",
              "    }\n",
              "\n",
              "    .dataframe thead th {\n",
              "        text-align: right;\n",
              "    }\n",
              "</style>\n",
              "<table border=\"1\" class=\"dataframe\">\n",
              "  <thead>\n",
              "    <tr style=\"text-align: right;\">\n",
              "      <th></th>\n",
              "      <th>user_id</th>\n",
              "      <th>item_id</th>\n",
              "      <th>click</th>\n",
              "      <th>follow</th>\n",
              "      <th>like</th>\n",
              "      <th>share</th>\n",
              "      <th>video_category</th>\n",
              "      <th>watching_times</th>\n",
              "      <th>gender</th>\n",
              "      <th>age</th>\n",
              "    </tr>\n",
              "  </thead>\n",
              "  <tbody>\n",
              "    <tr>\n",
              "      <th>247</th>\n",
              "      <td>8</td>\n",
              "      <td>97</td>\n",
              "      <td>1</td>\n",
              "      <td>0</td>\n",
              "      <td>0</td>\n",
              "      <td>0</td>\n",
              "      <td>1</td>\n",
              "      <td>2</td>\n",
              "      <td>0</td>\n",
              "      <td>0</td>\n",
              "    </tr>\n",
              "    <tr>\n",
              "      <th>248</th>\n",
              "      <td>8</td>\n",
              "      <td>98</td>\n",
              "      <td>1</td>\n",
              "      <td>0</td>\n",
              "      <td>0</td>\n",
              "      <td>0</td>\n",
              "      <td>1</td>\n",
              "      <td>2</td>\n",
              "      <td>0</td>\n",
              "      <td>0</td>\n",
              "    </tr>\n",
              "    <tr>\n",
              "      <th>249</th>\n",
              "      <td>8</td>\n",
              "      <td>99</td>\n",
              "      <td>1</td>\n",
              "      <td>0</td>\n",
              "      <td>0</td>\n",
              "      <td>0</td>\n",
              "      <td>0</td>\n",
              "      <td>2</td>\n",
              "      <td>0</td>\n",
              "      <td>0</td>\n",
              "    </tr>\n",
              "    <tr>\n",
              "      <th>250</th>\n",
              "      <td>8</td>\n",
              "      <td>106</td>\n",
              "      <td>1</td>\n",
              "      <td>0</td>\n",
              "      <td>0</td>\n",
              "      <td>0</td>\n",
              "      <td>1</td>\n",
              "      <td>2</td>\n",
              "      <td>0</td>\n",
              "      <td>0</td>\n",
              "    </tr>\n",
              "    <tr>\n",
              "      <th>251</th>\n",
              "      <td>8</td>\n",
              "      <td>400846</td>\n",
              "      <td>1</td>\n",
              "      <td>0</td>\n",
              "      <td>0</td>\n",
              "      <td>0</td>\n",
              "      <td>0</td>\n",
              "      <td>1</td>\n",
              "      <td>0</td>\n",
              "      <td>0</td>\n",
              "    </tr>\n",
              "    <tr>\n",
              "      <th>...</th>\n",
              "      <td>...</td>\n",
              "      <td>...</td>\n",
              "      <td>...</td>\n",
              "      <td>...</td>\n",
              "      <td>...</td>\n",
              "      <td>...</td>\n",
              "      <td>...</td>\n",
              "      <td>...</td>\n",
              "      <td>...</td>\n",
              "      <td>...</td>\n",
              "    </tr>\n",
              "    <tr>\n",
              "      <th>6073991</th>\n",
              "      <td>133755</td>\n",
              "      <td>55082</td>\n",
              "      <td>1</td>\n",
              "      <td>0</td>\n",
              "      <td>0</td>\n",
              "      <td>0</td>\n",
              "      <td>1</td>\n",
              "      <td>1</td>\n",
              "      <td>0</td>\n",
              "      <td>0</td>\n",
              "    </tr>\n",
              "    <tr>\n",
              "      <th>6073992</th>\n",
              "      <td>133755</td>\n",
              "      <td>35335</td>\n",
              "      <td>1</td>\n",
              "      <td>0</td>\n",
              "      <td>0</td>\n",
              "      <td>0</td>\n",
              "      <td>1</td>\n",
              "      <td>2</td>\n",
              "      <td>0</td>\n",
              "      <td>0</td>\n",
              "    </tr>\n",
              "    <tr>\n",
              "      <th>6073993</th>\n",
              "      <td>133755</td>\n",
              "      <td>92925</td>\n",
              "      <td>1</td>\n",
              "      <td>0</td>\n",
              "      <td>0</td>\n",
              "      <td>0</td>\n",
              "      <td>1</td>\n",
              "      <td>1</td>\n",
              "      <td>0</td>\n",
              "      <td>0</td>\n",
              "    </tr>\n",
              "    <tr>\n",
              "      <th>6073994</th>\n",
              "      <td>133755</td>\n",
              "      <td>8004</td>\n",
              "      <td>1</td>\n",
              "      <td>0</td>\n",
              "      <td>0</td>\n",
              "      <td>0</td>\n",
              "      <td>0</td>\n",
              "      <td>1</td>\n",
              "      <td>0</td>\n",
              "      <td>0</td>\n",
              "    </tr>\n",
              "    <tr>\n",
              "      <th>6073995</th>\n",
              "      <td>133755</td>\n",
              "      <td>1536</td>\n",
              "      <td>1</td>\n",
              "      <td>0</td>\n",
              "      <td>0</td>\n",
              "      <td>0</td>\n",
              "      <td>1</td>\n",
              "      <td>1</td>\n",
              "      <td>0</td>\n",
              "      <td>0</td>\n",
              "    </tr>\n",
              "  </tbody>\n",
              "</table>\n",
              "<p>1000000 rows × 10 columns</p>\n",
              "</div>"
            ],
            "text/plain": [
              "         user_id  item_id  click  follow  like  share  video_category  \\\n",
              "247            8       97      1       0     0      0               1   \n",
              "248            8       98      1       0     0      0               1   \n",
              "249            8       99      1       0     0      0               0   \n",
              "250            8      106      1       0     0      0               1   \n",
              "251            8   400846      1       0     0      0               0   \n",
              "...          ...      ...    ...     ...   ...    ...             ...   \n",
              "6073991   133755    55082      1       0     0      0               1   \n",
              "6073992   133755    35335      1       0     0      0               1   \n",
              "6073993   133755    92925      1       0     0      0               1   \n",
              "6073994   133755     8004      1       0     0      0               0   \n",
              "6073995   133755     1536      1       0     0      0               1   \n",
              "\n",
              "         watching_times  gender  age  \n",
              "247                   2       0    0  \n",
              "248                   2       0    0  \n",
              "249                   2       0    0  \n",
              "250                   2       0    0  \n",
              "251                   1       0    0  \n",
              "...                 ...     ...  ...  \n",
              "6073991               1       0    0  \n",
              "6073992               2       0    0  \n",
              "6073993               1       0    0  \n",
              "6073994               1       0    0  \n",
              "6073995               1       0    0  \n",
              "\n",
              "[1000000 rows x 10 columns]"
            ]
          },
          "execution_count": 26,
          "metadata": {},
          "output_type": "execute_result"
        }
      ],
      "source": [
        "#Extract a subset of the 'data' DataFrame containing the first one million rows with age equal to 0.\n",
        "age2 = data[data['age'] == 0]\n",
        "age2 = age2[0:1000000]\n",
        "age2"
      ]
    },
    {
      "cell_type": "code",
      "execution_count": null,
      "metadata": {
        "id": "Ta1xXSnAz8df"
      },
      "outputs": [],
      "source": [
        "# delete the data after splitting it  to reduce memory\n",
        "del data"
      ]
    },
    {
      "cell_type": "markdown",
      "metadata": {
        "id": "J4KH5HQDlSDb"
      },
      "source": [
        "---"
      ]
    },
    {
      "cell_type": "markdown",
      "metadata": {
        "id": "z1CfH9-hlSDb"
      },
      "source": [
        "# Experiment 1"
      ]
    },
    {
      "cell_type": "markdown",
      "metadata": {
        "id": "pP7u7Izt2-R-"
      },
      "source": [
        "---"
      ]
    },
    {
      "cell_type": "markdown",
      "metadata": {
        "id": "ggyVEs6O2-R-"
      },
      "source": [
        "## Collaborative Filtering\n",
        "\n",
        "Ways to determine whether user-based or item-based collaborative filtering is more suitable:"
      ]
    },
    {
      "cell_type": "markdown",
      "metadata": {
        "id": "aSEMdT3p2-R-"
      },
      "source": [
        "- User-based filtering is better when you have a large number of users with consistent preferences and behaviors, and when users have interacted with a significant portion of the available items.\n",
        "- Item-based filtering is better when you have a large number of items with consistent characteristics and interactions, and when users have interacted with only a small fraction of the available items."
      ]
    },
    {
      "cell_type": "code",
      "execution_count": null,
      "metadata": {
        "colab": {
          "base_uri": "https://localhost:8080/"
        },
        "id": "9APKj7KU2-R-",
        "outputId": "904a51c9-370a-493d-e54d-cd964c7af21d"
      },
      "outputs": [
        {
          "data": {
            "text/plain": [
              "20713"
            ]
          },
          "execution_count": 28,
          "metadata": {},
          "output_type": "execute_result"
        }
      ],
      "source": [
        "#Calculate the number of unique 'user_id' values in the 'age1' DataFrame.\n",
        "age1['user_id'].nunique()"
      ]
    },
    {
      "cell_type": "code",
      "execution_count": null,
      "metadata": {
        "colab": {
          "base_uri": "https://localhost:8080/"
        },
        "id": "fCaDjT5N2-R-",
        "outputId": "0c51f0cf-994e-480d-f9b4-cfdbb23d0c13"
      },
      "outputs": [
        {
          "data": {
            "text/plain": [
              "201097"
            ]
          },
          "execution_count": 29,
          "metadata": {},
          "output_type": "execute_result"
        }
      ],
      "source": [
        "#Calculate the number of unique 'item_id' values in the 'age1' DataFrame.\n",
        "age1['item_id'].nunique()"
      ]
    },
    {
      "cell_type": "markdown",
      "metadata": {
        "id": "EacUCfjm2-R_"
      },
      "source": [
        "They are near to each others."
      ]
    },
    {
      "cell_type": "markdown",
      "metadata": {
        "id": "On6AZs3P2-R_"
      },
      "source": [
        "- If your data is highly sparse (few interactions per user), item-based filtering is more suitable. If your data is less sparse (many interactions per user), user-based filtering may be more suitable."
      ]
    },
    {
      "cell_type": "code",
      "execution_count": null,
      "metadata": {
        "colab": {
          "base_uri": "https://localhost:8080/",
          "height": 507
        },
        "id": "AGqnkiWc2-R_",
        "outputId": "3d7da2b6-9290-46d7-89b7-652a39402dd8"
      },
      "outputs": [
        {
          "data": {
            "image/png": "[encoded data removed]",
            "text/plain": [
              "<Figure size 1000x500 with 3 Axes>"
            ]
          },
          "metadata": {},
          "output_type": "display_data"
        }
      ],
      "source": [
        "# Display bar plots for the top 10 value counts of each column ('follow', 'like', 'share') in the 'age1' DataFrame. Subplots organized in 3 columns per row.\n",
        "\n",
        "display_value_counts_bar(age1[['follow', 'like', 'share']], 3)"
      ]
    },
    {
      "cell_type": "markdown",
      "metadata": {
        "id": "zKqbYDsq2-R_"
      },
      "source": [
        "Data is highly sparse, So we can say that Item-Based filtering is more suitable."
      ]
    },
    {
      "cell_type": "markdown",
      "metadata": {
        "id": "EbacUYT52-R_"
      },
      "source": [
        "---"
      ]
    },
    {
      "cell_type": "markdown",
      "metadata": {
        "id": "nSRa7U3_2-R_"
      },
      "source": [
        "## Save Point"
      ]
    },
    {
      "cell_type": "code",
      "execution_count": null,
      "metadata": {
        "id": "vpt4Ny872-R_"
      },
      "outputs": [],
      "source": [
        "# Load the dataset\n",
        "df1 = age1.copy()"
      ]
    },
    {
      "cell_type": "markdown",
      "metadata": {
        "id": "pQF_OS-g2-R_"
      },
      "source": [
        "---"
      ]
    },
    {
      "cell_type": "markdown",
      "metadata": {
        "id": "Fak-wjYh2-R-"
      },
      "source": [
        "### Sessions Analysis"
      ]
    },
    {
      "cell_type": "code",
      "execution_count": null,
      "metadata": {
        "colab": {
          "base_uri": "https://localhost:8080/"
        },
        "id": "lvFARK102-R-",
        "outputId": "d07e10d9-310c-42c4-8bc4-4b69ac9e52cf"
      },
      "outputs": [
        {
          "data": {
            "text/plain": [
              "201097"
            ]
          },
          "execution_count": 32,
          "metadata": {},
          "output_type": "execute_result"
        }
      ],
      "source": [
        "#calculates the count of unique items in the 'item_id'\n",
        "num_items1 = df1['item_id'].nunique()\n",
        "num_items1"
      ]
    },
    {
      "cell_type": "code",
      "execution_count": null,
      "metadata": {
        "colab": {
          "base_uri": "https://localhost:8080/"
        },
        "id": "X87IfLjs2-R-",
        "outputId": "6c75b68c-a691-429f-aaac-e979d8a77408"
      },
      "outputs": [
        {
          "data": {
            "text/plain": [
              "20713"
            ]
          },
          "execution_count": 33,
          "metadata": {},
          "output_type": "execute_result"
        }
      ],
      "source": [
        "# calculate the count of unique users in the 'user_id' column of the DataFrame 'df1'.\n",
        "num_users1 = df1['user_id'].nunique()\n",
        "num_users1"
      ]
    },
    {
      "cell_type": "code",
      "execution_count": null,
      "metadata": {
        "colab": {
          "base_uri": "https://localhost:8080/"
        },
        "id": "T1ouvZ7X2-R-",
        "outputId": "23ac98b9-8882-4373-a7bb-3d43b1dcbd8f"
      },
      "outputs": [
        {
          "data": {
            "text/plain": [
              "count    20713.000000\n",
              "mean        48.278859\n",
              "std         43.040621\n",
              "min          1.000000\n",
              "25%         19.000000\n",
              "50%         35.000000\n",
              "75%         62.000000\n",
              "max        571.000000\n",
              "Name: user_id, dtype: float64"
            ]
          },
          "execution_count": 34,
          "metadata": {},
          "output_type": "execute_result"
        }
      ],
      "source": [
        "# generate a summary of the distribution of user interactions by counting and sorting the number of occurrences of each unique user ID in the 'user_id' column\n",
        "df1['user_id'].value_counts().sort_values(ascending=False).describe()"
      ]
    },
    {
      "cell_type": "markdown",
      "metadata": {
        "id": "XrBDsBSb2-R_"
      },
      "source": [
        "## Features Engineering"
      ]
    },
    {
      "cell_type": "code",
      "execution_count": null,
      "metadata": {
        "colab": {
          "base_uri": "https://localhost:8080/",
          "height": 442
        },
        "id": "LhyIk9IR2-R_",
        "outputId": "c597bf9c-613f-4176-92b5-6522af2609f7"
      },
      "outputs": [
        {
          "data": {
            "text/plain": [
              "<Axes: >"
            ]
          },
          "execution_count": 35,
          "metadata": {},
          "output_type": "execute_result"
        },
        {
          "data": {
            "image/png": "[encoded data removed]",
            "text/plain": [
              "<Figure size 640x480 with 1 Axes>"
            ]
          },
          "metadata": {},
          "output_type": "display_data"
        }
      ],
      "source": [
        "# The column `click` contains only the value `1` so it is better to be dropped.\n",
        "df1['click'].value_counts().plot.bar()"
      ]
    },
    {
      "cell_type": "code",
      "execution_count": null,
      "metadata": {
        "colab": {
          "base_uri": "https://localhost:8080/",
          "height": 507
        },
        "id": "_mzO0mN42-SA",
        "outputId": "f990e954-399a-4306-f258-5d3ded90d70d"
      },
      "outputs": [
        {
          "data": {
            "image/png": "[encoded data removed]",
            "text/plain": [
              "<Figure size 1000x500 with 3 Axes>"
            ]
          },
          "metadata": {},
          "output_type": "display_data"
        }
      ],
      "source": [
        "# follow, like and share are highly sparse so it is better to drop them.\n",
        "display_value_counts_bar(df1[['follow', 'like', 'share']], 3)"
      ]
    },
    {
      "cell_type": "code",
      "execution_count": null,
      "metadata": {
        "id": "pQIh0LAc2-SA"
      },
      "outputs": [],
      "source": [
        "#e drops the 'click', 'follow', 'like', and 'share' column\n",
        "df1.drop(columns=['click', 'follow', 'like', 'share'], axis=1, inplace=True)"
      ]
    },
    {
      "cell_type": "markdown",
      "metadata": {
        "id": "C2RSbrj32-SA"
      },
      "source": [
        "---"
      ]
    },
    {
      "cell_type": "markdown",
      "metadata": {
        "id": "HDFRptVX2-SA"
      },
      "source": [
        "## Session Representation\n",
        "- Session Initialization\n",
        "- Session Length Filtering\n",
        "- Session Sorting - already sorted\n",
        "- Session Padding"
      ]
    },
    {
      "cell_type": "markdown",
      "metadata": {
        "id": "OLk_t9Hd2-SA"
      },
      "source": [
        "### Map Items ids"
      ]
    },
    {
      "cell_type": "code",
      "execution_count": null,
      "metadata": {
        "id": "M0hvx8qv2-SA"
      },
      "outputs": [],
      "source": [
        "#Create a mapping dictionary 'itemIdMapping1' that assigns unique 'item_id' values in the 'df1' DataFrame to sequential integer values starting from 1.\n",
        "itemIdMapping1 = {k:i+1 for i, k in enumerate(sorted(list(df1['item_id'].unique())))}"
      ]
    },
    {
      "cell_type": "code",
      "execution_count": null,
      "metadata": {
        "id": "zTluGfcI2-SA"
      },
      "outputs": [],
      "source": [
        "#Create a new column 'item_id_mapped' in the 'df1' DataFrame that maps the original 'item_id' values to their corresponding sequential integer values using the 'itemIdMapping1' dictionary.\n",
        "df1[\"item_id_mapped\"] = df1['item_id'].map(itemIdMapping1)"
      ]
    },
    {
      "cell_type": "code",
      "execution_count": null,
      "metadata": {
        "colab": {
          "base_uri": "https://localhost:8080/",
          "height": 206
        },
        "id": "LvgCr2p72-SA",
        "outputId": "60980103-030b-43e5-9209-f9a1efec56a6"
      },
      "outputs": [
        {
          "data": {
            "text/html": [
              "<div>\n",
              "<style scoped>\n",
              "    .dataframe tbody tr th:only-of-type {\n",
              "        vertical-align: middle;\n",
              "    }\n",
              "\n",
              "    .dataframe tbody tr th {\n",
              "        vertical-align: top;\n",
              "    }\n",
              "\n",
              "    .dataframe thead th {\n",
              "        text-align: right;\n",
              "    }\n",
              "</style>\n",
              "<table border=\"1\" class=\"dataframe\">\n",
              "  <thead>\n",
              "    <tr style=\"text-align: right;\">\n",
              "      <th></th>\n",
              "      <th>user_id</th>\n",
              "      <th>item_id</th>\n",
              "      <th>video_category</th>\n",
              "      <th>watching_times</th>\n",
              "      <th>gender</th>\n",
              "      <th>age</th>\n",
              "      <th>item_id_mapped</th>\n",
              "    </tr>\n",
              "  </thead>\n",
              "  <tbody>\n",
              "    <tr>\n",
              "      <th>438</th>\n",
              "      <td>11</td>\n",
              "      <td>141</td>\n",
              "      <td>1</td>\n",
              "      <td>2</td>\n",
              "      <td>1</td>\n",
              "      <td>3</td>\n",
              "      <td>105</td>\n",
              "    </tr>\n",
              "    <tr>\n",
              "      <th>439</th>\n",
              "      <td>11</td>\n",
              "      <td>142</td>\n",
              "      <td>1</td>\n",
              "      <td>1</td>\n",
              "      <td>1</td>\n",
              "      <td>3</td>\n",
              "      <td>106</td>\n",
              "    </tr>\n",
              "    <tr>\n",
              "      <th>440</th>\n",
              "      <td>11</td>\n",
              "      <td>143</td>\n",
              "      <td>1</td>\n",
              "      <td>5</td>\n",
              "      <td>1</td>\n",
              "      <td>3</td>\n",
              "      <td>107</td>\n",
              "    </tr>\n",
              "    <tr>\n",
              "      <th>441</th>\n",
              "      <td>11</td>\n",
              "      <td>144</td>\n",
              "      <td>1</td>\n",
              "      <td>2</td>\n",
              "      <td>1</td>\n",
              "      <td>3</td>\n",
              "      <td>108</td>\n",
              "    </tr>\n",
              "    <tr>\n",
              "      <th>442</th>\n",
              "      <td>11</td>\n",
              "      <td>145</td>\n",
              "      <td>1</td>\n",
              "      <td>2</td>\n",
              "      <td>1</td>\n",
              "      <td>3</td>\n",
              "      <td>109</td>\n",
              "    </tr>\n",
              "  </tbody>\n",
              "</table>\n",
              "</div>"
            ],
            "text/plain": [
              "     user_id  item_id  video_category  watching_times  gender  age  \\\n",
              "438       11      141               1               2       1    3   \n",
              "439       11      142               1               1       1    3   \n",
              "440       11      143               1               5       1    3   \n",
              "441       11      144               1               2       1    3   \n",
              "442       11      145               1               2       1    3   \n",
              "\n",
              "     item_id_mapped  \n",
              "438             105  \n",
              "439             106  \n",
              "440             107  \n",
              "441             108  \n",
              "442             109  "
            ]
          },
          "execution_count": 40,
          "metadata": {},
          "output_type": "execute_result"
        }
      ],
      "source": [
        "df1.head()"
      ]
    },
    {
      "cell_type": "markdown",
      "metadata": {
        "id": "sg3HRJlc2-SA"
      },
      "source": [
        "### Session Initialization"
      ]
    },
    {
      "cell_type": "code",
      "execution_count": null,
      "metadata": {
        "id": "7empP3RZ2-SA"
      },
      "outputs": [],
      "source": [
        "# Group the 'df1' DataFrame by 'user_id' and create a new DataFrame 'sessions1' that contains lists of 'item_id_mapped' values for each user.\n",
        "sessions1 = df1.groupby(\"user_id\")[['item_id_mapped']].agg(list)"
      ]
    },
    {
      "cell_type": "code",
      "execution_count": null,
      "metadata": {
        "colab": {
          "base_uri": "https://localhost:8080/",
          "height": 237
        },
        "id": "u2I2zwlp2-SA",
        "outputId": "6957502f-355c-4bfa-9b05-b33e05849e08"
      },
      "outputs": [
        {
          "data": {
            "text/html": [
              "<div>\n",
              "<style scoped>\n",
              "    .dataframe tbody tr th:only-of-type {\n",
              "        vertical-align: middle;\n",
              "    }\n",
              "\n",
              "    .dataframe tbody tr th {\n",
              "        vertical-align: top;\n",
              "    }\n",
              "\n",
              "    .dataframe thead th {\n",
              "        text-align: right;\n",
              "    }\n",
              "</style>\n",
              "<table border=\"1\" class=\"dataframe\">\n",
              "  <thead>\n",
              "    <tr style=\"text-align: right;\">\n",
              "      <th></th>\n",
              "      <th>item_id_mapped</th>\n",
              "    </tr>\n",
              "    <tr>\n",
              "      <th>user_id</th>\n",
              "      <th></th>\n",
              "    </tr>\n",
              "  </thead>\n",
              "  <tbody>\n",
              "    <tr>\n",
              "      <th>11</th>\n",
              "      <td>[105, 106, 107, 108, 109, 110, 111, 112, 113, ...</td>\n",
              "    </tr>\n",
              "    <tr>\n",
              "      <th>14</th>\n",
              "      <td>[154, 155, 156, 157, 159, 160, 161, 2693, 2880...</td>\n",
              "    </tr>\n",
              "    <tr>\n",
              "      <th>17</th>\n",
              "      <td>[190, 191, 192, 193, 194, 195, 196, 199, 203, ...</td>\n",
              "    </tr>\n",
              "    <tr>\n",
              "      <th>29</th>\n",
              "      <td>[293, 294, 296, 299, 300, 39168, 16500, 29253,...</td>\n",
              "    </tr>\n",
              "    <tr>\n",
              "      <th>39</th>\n",
              "      <td>[399, 400, 401, 402, 852, 7849, 5930, 5624, 31...</td>\n",
              "    </tr>\n",
              "  </tbody>\n",
              "</table>\n",
              "</div>"
            ],
            "text/plain": [
              "                                            item_id_mapped\n",
              "user_id                                                   \n",
              "11       [105, 106, 107, 108, 109, 110, 111, 112, 113, ...\n",
              "14       [154, 155, 156, 157, 159, 160, 161, 2693, 2880...\n",
              "17       [190, 191, 192, 193, 194, 195, 196, 199, 203, ...\n",
              "29       [293, 294, 296, 299, 300, 39168, 16500, 29253,...\n",
              "39       [399, 400, 401, 402, 852, 7849, 5930, 5624, 31..."
            ]
          },
          "execution_count": 42,
          "metadata": {},
          "output_type": "execute_result"
        }
      ],
      "source": [
        "sessions1.head()"
      ]
    },
    {
      "cell_type": "markdown",
      "metadata": {
        "id": "3DUJD13V2-SA"
      },
      "source": [
        "### Session Length Filtering"
      ]
    },
    {
      "cell_type": "code",
      "execution_count": null,
      "metadata": {
        "id": "AnZqt9dr2-SB"
      },
      "outputs": [],
      "source": [
        "min_sequance_length = 10\n",
        "max_sequance_length = 30"
      ]
    },
    {
      "cell_type": "markdown",
      "metadata": {
        "id": "2qptQCoAWXPI"
      },
      "source": [
        "Once session sequences are from `1` to `563` but `50%` are of length `34` or less and `75%` are `59` or less, we can use a mean point `45` as max sequance length to reduce the number of padding in the data and we can also make the min sequance length as `10` instead of `1` where any number less than `10` can't create a meaningful sequance."
      ]
    },
    {
      "cell_type": "code",
      "execution_count": null,
      "metadata": {
        "id": "5sZNpJbR2-SB"
      },
      "outputs": [],
      "source": [
        "# filter min length\n",
        "sessions1 = sessions1[sessions1['item_id_mapped'].apply(lambda x: len(x) > min_sequance_length)]"
      ]
    },
    {
      "cell_type": "code",
      "execution_count": null,
      "metadata": {
        "id": "jpG1Q9sH2-SB"
      },
      "outputs": [],
      "source": [
        "# apply max length\n",
        "sessions1['item_id_mapped'] = sessions1['item_id_mapped'].apply(lambda x: x[:max_sequance_length])"
      ]
    },
    {
      "cell_type": "code",
      "execution_count": null,
      "metadata": {
        "colab": {
          "base_uri": "https://localhost:8080/"
        },
        "id": "xXTbFHsW2-SB",
        "outputId": "2cd58987-8e57-4482-de4e-9c1cc06a0e9b"
      },
      "outputs": [
        {
          "data": {
            "text/plain": [
              "array([list([105, 106, 107, 108, 109, 110, 111, 112, 113, 115, 116, 117, 118, 121, 122, 123, 640, 811, 3621, 95207, 3485, 9130, 572, 10566, 16406, 1433, 10679, 5673, 3657, 1070]),\n",
              "       list([154, 155, 156, 157, 159, 160, 161, 2693, 28802, 25604, 1607, 983, 5374, 83602, 18490, 9395, 2909, 3707, 13521, 25974, 18265, 52759, 5804, 14360, 65683, 17847, 1611, 7288, 12058, 12743]),\n",
              "       list([190, 191, 192, 193, 194, 195, 196, 199, 203, 204, 641, 1273, 11116, 638, 99599, 3655, 5377, 1521, 582, 7541, 3415, 13691, 1809, 621, 11203, 32856, 2733, 5579, 2285, 45924]),\n",
              "       ...,\n",
              "       list([83874, 3974, 8423, 458, 46342, 12119, 93666, 112958, 3218, 121538, 6442, 15186, 22658, 2115, 24131, 1119, 979, 83671, 386, 91349, 31134, 51441, 8224, 675, 194578, 179231, 193241, 155767, 197181, 156074]),\n",
              "       list([71101, 991, 3415, 5517, 26774, 17139, 83878, 27151, 14629, 71687, 572, 32178, 362, 3605, 70299, 90355, 36132, 289, 11203, 2104, 13352, 77850, 50875, 1032, 3530, 27265, 31008, 7950, 106550, 2398]),\n",
              "       list([3612, 2512, 1182, 1557, 4803, 13017, 20940, 4905, 2454, 2763, 638, 7375])],\n",
              "      dtype=object)"
            ]
          },
          "execution_count": 46,
          "metadata": {},
          "output_type": "execute_result"
        }
      ],
      "source": [
        "# Display sessions1['item_id_mapped'] values\n",
        "sessions1['item_id_mapped'].values"
      ]
    },
    {
      "cell_type": "markdown",
      "metadata": {
        "id": "GzBZfu5p2-SB"
      },
      "source": [
        "### Session Padding\n",
        "add padding to the beginning of each sequance"
      ]
    },
    {
      "cell_type": "code",
      "execution_count": null,
      "metadata": {
        "id": "F9-k3OUZ2-SB"
      },
      "outputs": [],
      "source": [
        "#Pad the 'item_id_mapped' lists in the 'sessions1' DataFrame with zeros to achieve a fixed length of 'max_sequence_length'.\n",
        "sessions1['item_id_mapped'] = sessions1['item_id_mapped'].apply(lambda x: [0]*(max_sequance_length-len(x)) + x)"
      ]
    },
    {
      "cell_type": "code",
      "execution_count": null,
      "metadata": {
        "colab": {
          "base_uri": "https://localhost:8080/",
          "height": 237
        },
        "id": "t2fyxhKS2-SB",
        "outputId": "2c82e247-e0d6-44b3-f0a4-70ff47eff680"
      },
      "outputs": [
        {
          "data": {
            "text/html": [
              "<div>\n",
              "<style scoped>\n",
              "    .dataframe tbody tr th:only-of-type {\n",
              "        vertical-align: middle;\n",
              "    }\n",
              "\n",
              "    .dataframe tbody tr th {\n",
              "        vertical-align: top;\n",
              "    }\n",
              "\n",
              "    .dataframe thead th {\n",
              "        text-align: right;\n",
              "    }\n",
              "</style>\n",
              "<table border=\"1\" class=\"dataframe\">\n",
              "  <thead>\n",
              "    <tr style=\"text-align: right;\">\n",
              "      <th></th>\n",
              "      <th>item_id_mapped</th>\n",
              "    </tr>\n",
              "    <tr>\n",
              "      <th>user_id</th>\n",
              "      <th></th>\n",
              "    </tr>\n",
              "  </thead>\n",
              "  <tbody>\n",
              "    <tr>\n",
              "      <th>11</th>\n",
              "      <td>[105, 106, 107, 108, 109, 110, 111, 112, 113, ...</td>\n",
              "    </tr>\n",
              "    <tr>\n",
              "      <th>14</th>\n",
              "      <td>[154, 155, 156, 157, 159, 160, 161, 2693, 2880...</td>\n",
              "    </tr>\n",
              "    <tr>\n",
              "      <th>17</th>\n",
              "      <td>[190, 191, 192, 193, 194, 195, 196, 199, 203, ...</td>\n",
              "    </tr>\n",
              "    <tr>\n",
              "      <th>29</th>\n",
              "      <td>[0, 0, 0, 0, 293, 294, 296, 299, 300, 39168, 1...</td>\n",
              "    </tr>\n",
              "    <tr>\n",
              "      <th>39</th>\n",
              "      <td>[399, 400, 401, 402, 852, 7849, 5930, 5624, 31...</td>\n",
              "    </tr>\n",
              "  </tbody>\n",
              "</table>\n",
              "</div>"
            ],
            "text/plain": [
              "                                            item_id_mapped\n",
              "user_id                                                   \n",
              "11       [105, 106, 107, 108, 109, 110, 111, 112, 113, ...\n",
              "14       [154, 155, 156, 157, 159, 160, 161, 2693, 2880...\n",
              "17       [190, 191, 192, 193, 194, 195, 196, 199, 203, ...\n",
              "29       [0, 0, 0, 0, 293, 294, 296, 299, 300, 39168, 1...\n",
              "39       [399, 400, 401, 402, 852, 7849, 5930, 5624, 31..."
            ]
          },
          "execution_count": 48,
          "metadata": {},
          "output_type": "execute_result"
        }
      ],
      "source": [
        "sessions1.head()"
      ]
    },
    {
      "cell_type": "markdown",
      "metadata": {
        "id": "o-B2alrG2-SB"
      },
      "source": [
        "---"
      ]
    },
    {
      "cell_type": "markdown",
      "metadata": {
        "id": "CW3nUOsq2-SB"
      },
      "source": [
        "## Train-Test-Validation Split"
      ]
    },
    {
      "cell_type": "code",
      "execution_count": null,
      "metadata": {
        "colab": {
          "base_uri": "https://localhost:8080/"
        },
        "id": "9jjX2qoL2-SB",
        "outputId": "f7b3d61f-f618-404c-d9d6-33c2fd6699e7"
      },
      "outputs": [
        {
          "name": "stderr",
          "output_type": "stream",
          "text": [
            "100%|██████████| 19986/19986 [00:00<00:00, 761762.20it/s]\n"
          ]
        }
      ],
      "source": [
        "#Split the 'sessions1' DataFrame into three sets - 'train_data1', 'val_data1', and 'test_data1' - using the 'train_val_test_split' function. The function converts the 'item_id_mapped' lists to dictionaries.\n",
        "train_data1, val_data1, test_data1 = dataset.train_val_test_split(sessions1['item_id_mapped'].apply(list).to_dict())"
      ]
    },
    {
      "cell_type": "markdown",
      "metadata": {
        "id": "C2bxc2L32-SC"
      },
      "source": [
        "---"
      ]
    },
    {
      "cell_type": "markdown",
      "metadata": {
        "id": "1D_3AAdM2-SC"
      },
      "source": [
        "## Model Selection\n",
        "\n",
        "Steps for Session-Based Recommendation:\n",
        "\n",
        "- Research and Understanding: Familiarize yourself with the characteristics, strengths, and limitations of each model considered for session-based recommendation, namely BERT4Rec, GRU4Rec, SASRec, and NextItNet. Gain insights into their architectures, training approaches, and performance on similar tasks.\n",
        "\n",
        "- Evaluation Metrics: Determine the evaluation metrics that align with your project goals, such as precision, recall, Mean Average Precision (MAP), or Normalized Discounted Cumulative Gain (NDCG). Ensure that the selected models can be evaluated using these metrics.\n",
        "\n",
        "- Implementation Suitability: Assess the feasibility and compatibility of each model with the Ternec dataset, session-based recommendation task, and available computational resources. Consider factors such as model complexity, scalability, and ease of implementation.\n",
        "\n",
        "- Model Performance Comparison: Implement and train each model separately using the Ternec dataset. Evaluate their performance on the chosen evaluation metrics using appropriate validation or test sets. Compare their results to identify the model(s) that demonstrate superior performance.\n",
        "\n",
        "- Consideration of Specific Requirements: Consider any specific requirements or constraints of your session-based recommendation project. For example, if interpretability is crucial, assess which model provides more explainable recommendations. Take into account factors like model complexity, training time, or memory requirements.\n",
        "\n",
        "- Robustness and Generalization: Analyze the robustness and generalization capabilities of each model by assessing their performance across different subsets or splits of the Ternec dataset. Consider their ability to handle various session lengths, data sparsity, or different user behavior patterns.\n",
        "\n",
        "- Expert Advice: Consult with experts or researchers in the field of session-based recommendation or deep learning to gather additional insights and recommendations on model selection. Consider their expertise and experiences to inform your decision-making process.\n",
        "\n",
        "- Final Model Selection: Based on the performance comparison, compatibility, requirements, and expert advice, select the model(s) that best meet your project goals, dataset characteristics, and implementation constraints. Ensure that the selected models align with the objectives and resources available for your session-based recommendation project."
      ]
    },
    {
      "cell_type": "markdown",
      "metadata": {
        "id": "op3BUDG-2-SC"
      },
      "source": [
        "### Common Argument"
      ]
    },
    {
      "cell_type": "code",
      "execution_count": null,
      "metadata": {
        "id": "OJaG5b1N2-SC"
      },
      "outputs": [],
      "source": [
        "# later using args\n",
        "args1 = argparse.Namespace(\n",
        "    seed=22,\n",
        "    save_path='./checkpoint/',\n",
        "    model_name='sasrec1',\n",
        "    device='cuda',\n",
        "\n",
        "    is_parallel=False,\n",
        "\n",
        "    # get_data arguments\n",
        "    item_min=min_sequance_length,\n",
        "    valid_rate=100,\n",
        "    max_len=max_sequance_length,\n",
        "    bert_mask_prob=0.3,\n",
        "    pad_token=0,\n",
        "    train_batch_size=32,\n",
        "    test_batch_size=32,\n",
        "    val_batch_size=32,\n",
        "\n",
        "    # load_model arguments\n",
        "    embedding_size=64,\n",
        "    block_num=2,\n",
        "    dilations=[1, 4],\n",
        "    kernel_size=3,\n",
        "    num_items=num_items1,\n",
        "    num_users=num_users1,\n",
        "    num_heads=4,\n",
        "    dropout=0.1,\n",
        "\n",
        "    # SeqTrain arguments\n",
        "    epochs=20,\n",
        "    is_pretrain=1,\n",
        "    lr=0.0001,\n",
        "    weight_decay=0.0,\n",
        "    local_rank=None,\n",
        "    metric_ks=[1, 5, 10, 20],\n",
        "    hidden_size=8,\n",
        ")"
      ]
    },
    {
      "cell_type": "code",
      "execution_count": null,
      "metadata": {
        "id": "8evUjiHG2-SC"
      },
      "outputs": [],
      "source": [
        "if args1.is_parallel:\n",
        "    torch.distributed.init_process_group(backend=\"nccl\")\n",
        "    torch.cuda.set_device(args1.local_rank)\n",
        "\n",
        "device = torch.device(args1.device)"
      ]
    },
    {
      "cell_type": "code",
      "execution_count": null,
      "metadata": {
        "id": "ZmUBhmKM2-SC"
      },
      "outputs": [],
      "source": [
        "# Iterate through the keys of 'val_data1' and copy the corresponding values to 'train_data_s1' and 'val_data_s1'.\n",
        "#Stop the iteration after reaching a number of keys equal to the specified validation rate.\n",
        "train_data_s1, val_data_s1 = {}, {}\n",
        "data_len1 = len(train_data1)\n",
        "i = 0\n",
        "for key, _ in val_data1.items():\n",
        "    train_data_s1[key] = train_data1[key]\n",
        "    val_data_s1[key] = val_data1[key]\n",
        "    i += 1\n",
        "    if i == int(data_len1 / args1.valid_rate):\n",
        "        break"
      ]
    },
    {
      "cell_type": "code",
      "execution_count": null,
      "metadata": {
        "id": "-TIs3qSy2-SC"
      },
      "outputs": [],
      "source": [
        "#Create training, validation, and test datasets using the specified parameters.\n",
        "train_dataset1 = dataset.BuildTrainDataset(train_data1, args1.max_len, args1.pad_token, args1.num_items)\n",
        "valid_dataset1 = dataset.Build_full_EvalDataset(train_data_s1, val_data_s1, args1.max_len, args1.pad_token, args1.num_items)\n",
        "test_dataset1 = dataset.Build_full_EvalDataset(train_data1, test_data1, args1.max_len, args1.pad_token, args1.num_items)"
      ]
    },
    {
      "cell_type": "code",
      "execution_count": null,
      "metadata": {
        "id": "TvgVeMBP2-SC"
      },
      "outputs": [],
      "source": [
        "#Create data loaders for the training, validation, and test datasets using the specified parameters 'args1'.\n",
        "train_dataloader1 = dataset.get_train_loader(train_dataset1, args1)\n",
        "valid_dataloader1 = dataset.get_val_loader(valid_dataset1, args1)\n",
        "test_dataloader1 = dataset.get_test_loader(test_dataset1, args1)"
      ]
    },
    {
      "cell_type": "markdown",
      "metadata": {
        "id": "rpm-dWn02-SC"
      },
      "source": [
        "### SASRec"
      ]
    },
    {
      "cell_type": "markdown",
      "metadata": {
        "id": "yk6O3uCp2-SC"
      },
      "source": [
        "### Create Model"
      ]
    },
    {
      "cell_type": "code",
      "execution_count": null,
      "metadata": {
        "id": "sdC3wpHu2-SD"
      },
      "outputs": [],
      "source": [
        "#Create an instance of the SASRec model using the specified 'args1' parameters.\n",
        "model1 = SASRec(args1)"
      ]
    },
    {
      "cell_type": "markdown",
      "metadata": {
        "id": "dXK5hBSJ2-SD"
      },
      "source": [
        "#### Model Training"
      ]
    },
    {
      "cell_type": "code",
      "execution_count": null,
      "metadata": {
        "colab": {
          "base_uri": "https://localhost:8080/"
        },
        "id": "5ex9R-GF2-SD",
        "outputId": "ebdf26ee-a10d-435b-9a92-0c48a0a79a75"
      },
      "outputs": [
        {
          "name": "stdout",
          "output_type": "stream",
          "text": [
            "++++++++++++++++++++ Train Epoch 1 ++++++++++++++++++++\n",
            "Training CE Loss: 12.50589\n",
            "one epoch train: 33.70142602920532\n",
            "++++++++++++++++++++ Valid Epoch 1 ++++++++++++++++++++\n",
            "{'Recall@20': 0.004464285714285714, 'NDCG@20': tensor(0.0010, device='cuda:0'), 'Recall@10': 0.0, 'NDCG@10': tensor(0., device='cuda:0'), 'Recall@5': 0.0, 'NDCG@5': tensor(0., device='cuda:0'), 'Recall@1': 0.0, 'NDCG@1': tensor(0., device='cuda:0')}\n",
            "one epoch val: 3.391223907470703\n",
            "++++++++++++++++++++ Train Epoch 2 ++++++++++++++++++++\n",
            "Training CE Loss: 12.23629\n",
            "one epoch train: 33.359612226486206\n",
            "++++++++++++++++++++ Valid Epoch 2 ++++++++++++++++++++\n",
            "{'Recall@20': 0.0, 'NDCG@20': tensor(0., device='cuda:0'), 'Recall@10': 0.0, 'NDCG@10': tensor(0., device='cuda:0'), 'Recall@5': 0.0, 'NDCG@5': tensor(0., device='cuda:0'), 'Recall@1': 0.0, 'NDCG@1': tensor(0., device='cuda:0')}\n",
            "one epoch val: 2.8789374828338623\n",
            "++++++++++++++++++++ Train Epoch 3 ++++++++++++++++++++\n",
            "Training CE Loss: 11.93705\n",
            "one epoch train: 32.66134476661682\n",
            "++++++++++++++++++++ Valid Epoch 3 ++++++++++++++++++++\n",
            "{'Recall@20': 0.008928571428571428, 'NDCG@20': tensor(0.0030, device='cuda:0'), 'Recall@10': 0.004464285714285714, 'NDCG@10': tensor(0.0017, device='cuda:0'), 'Recall@5': 0.004464285714285714, 'NDCG@5': tensor(0.0017, device='cuda:0'), 'Recall@1': 0.0, 'NDCG@1': tensor(0., device='cuda:0')}\n",
            "one epoch val: 2.8934342861175537\n",
            "++++++++++++++++++++ Train Epoch 4 ++++++++++++++++++++\n",
            "Training CE Loss: 11.62491\n",
            "one epoch train: 36.497276067733765\n",
            "++++++++++++++++++++ Valid Epoch 4 ++++++++++++++++++++\n",
            "{'Recall@20': 0.038265307034764974, 'NDCG@20': tensor(0.0125, device='cuda:0'), 'Recall@10': 0.024872449891907827, 'NDCG@10': tensor(0.0092, device='cuda:0'), 'Recall@5': 0.004464285714285714, 'NDCG@5': tensor(0.0019, device='cuda:0'), 'Recall@1': 0.0, 'NDCG@1': tensor(0., device='cuda:0')}\n",
            "one epoch val: 3.7102549076080322\n",
            "++++++++++++++++++++ Train Epoch 5 ++++++++++++++++++++\n",
            "Training CE Loss: 11.33534\n",
            "one epoch train: 35.49263262748718\n",
            "++++++++++++++++++++ Valid Epoch 5 ++++++++++++++++++++\n",
            "{'Recall@20': 0.033801021320479255, 'NDCG@20': tensor(0.0122, device='cuda:0'), 'Recall@10': 0.033801021320479255, 'NDCG@10': tensor(0.0122, device='cuda:0'), 'Recall@5': 0.020408164177622114, 'NDCG@5': tensor(0.0079, device='cuda:0'), 'Recall@1': 0.0, 'NDCG@1': tensor(0., device='cuda:0')}\n",
            "one epoch val: 3.2766621112823486\n",
            "++++++++++++++++++++ Train Epoch 6 ++++++++++++++++++++\n",
            "Training CE Loss: 11.08930\n",
            "one epoch train: 34.450525522232056\n",
            "++++++++++++++++++++ Valid Epoch 6 ++++++++++++++++++++\n",
            "{'Recall@20': 0.042729592749050686, 'NDCG@20': tensor(0.0206, device='cuda:0'), 'Recall@10': 0.029336735606193542, 'NDCG@10': tensor(0.0172, device='cuda:0'), 'Recall@5': 0.024872449891907827, 'NDCG@5': tensor(0.0157, device='cuda:0'), 'Recall@1': 0.0, 'NDCG@1': tensor(0., device='cuda:0')}\n",
            "one epoch val: 3.272798538208008\n",
            "++++++++++++++++++++ Train Epoch 7 ++++++++++++++++++++\n",
            "Training CE Loss: 10.90651\n",
            "one epoch train: 35.04608225822449\n",
            "++++++++++++++++++++ Valid Epoch 7 ++++++++++++++++++++\n",
            "{'Recall@20': 0.038265307034764974, 'NDCG@20': tensor(0.0174, device='cuda:0'), 'Recall@10': 0.033801021320479255, 'NDCG@10': tensor(0.0162, device='cuda:0'), 'Recall@5': 0.029336735606193542, 'NDCG@5': tensor(0.0149, device='cuda:0'), 'Recall@1': 0.0, 'NDCG@1': tensor(0., device='cuda:0')}\n",
            "one epoch val: 3.465205669403076\n",
            "++++++++++++++++++++ Train Epoch 8 ++++++++++++++++++++\n",
            "Training CE Loss: 10.77843\n",
            "one epoch train: 34.92753839492798\n",
            "++++++++++++++++++++ Valid Epoch 8 ++++++++++++++++++++\n",
            "{'Recall@20': 0.042729592749050686, 'NDCG@20': tensor(0.0212, device='cuda:0'), 'Recall@10': 0.038265307034764974, 'NDCG@10': tensor(0.0201, device='cuda:0'), 'Recall@5': 0.029336735606193542, 'NDCG@5': tensor(0.0175, device='cuda:0'), 'Recall@1': 0.004464285714285714, 'NDCG@1': tensor(0.0045, device='cuda:0')}\n",
            "one epoch val: 3.448941230773926\n",
            "++++++++++++++++++++ Train Epoch 9 ++++++++++++++++++++\n",
            "Training CE Loss: 10.68573\n",
            "one epoch train: 33.03742480278015\n",
            "++++++++++++++++++++ Valid Epoch 9 ++++++++++++++++++++\n",
            "{'Recall@20': 0.042729592749050686, 'NDCG@20': tensor(0.0195, device='cuda:0'), 'Recall@10': 0.038265307034764974, 'NDCG@10': tensor(0.0185, device='cuda:0'), 'Recall@5': 0.033801021320479255, 'NDCG@5': tensor(0.0172, device='cuda:0'), 'Recall@1': 0.004464285714285714, 'NDCG@1': tensor(0.0045, device='cuda:0')}\n",
            "one epoch val: 3.3464794158935547\n",
            "++++++++++++++++++++ Train Epoch 10 ++++++++++++++++++++\n",
            "Training CE Loss: 10.61879\n",
            "one epoch train: 33.08132600784302\n",
            "++++++++++++++++++++ Valid Epoch 10 ++++++++++++++++++++\n",
            "{'Recall@20': 0.0471938784633364, 'NDCG@20': tensor(0.0201, device='cuda:0'), 'Recall@10': 0.038265307034764974, 'NDCG@10': tensor(0.0181, device='cuda:0'), 'Recall@5': 0.033801021320479255, 'NDCG@5': tensor(0.0168, device='cuda:0'), 'Recall@1': 0.004464285714285714, 'NDCG@1': tensor(0.0045, device='cuda:0')}\n",
            "one epoch val: 3.5458011627197266\n",
            "++++++++++++++++++++ Train Epoch 11 ++++++++++++++++++++\n",
            "Training CE Loss: 10.57014\n",
            "one epoch train: 33.115113496780396\n",
            "++++++++++++++++++++ Valid Epoch 11 ++++++++++++++++++++\n",
            "{'Recall@20': 0.042729592749050686, 'NDCG@20': tensor(0.0198, device='cuda:0'), 'Recall@10': 0.038265307034764974, 'NDCG@10': tensor(0.0188, device='cuda:0'), 'Recall@5': 0.033801021320479255, 'NDCG@5': tensor(0.0174, device='cuda:0'), 'Recall@1': 0.004464285714285714, 'NDCG@1': tensor(0.0045, device='cuda:0')}\n",
            "one epoch val: 3.3426501750946045\n",
            "++++++++++++++++++++ Train Epoch 12 ++++++++++++++++++++\n",
            "Training CE Loss: 10.53056\n",
            "one epoch train: 35.33199596405029\n",
            "++++++++++++++++++++ Valid Epoch 12 ++++++++++++++++++++\n",
            "{'Recall@20': 0.038265307034764974, 'NDCG@20': tensor(0.0187, device='cuda:0'), 'Recall@10': 0.038265307034764974, 'NDCG@10': tensor(0.0187, device='cuda:0'), 'Recall@5': 0.033801021320479255, 'NDCG@5': tensor(0.0174, device='cuda:0'), 'Recall@1': 0.004464285714285714, 'NDCG@1': tensor(0.0045, device='cuda:0')}\n",
            "one epoch val: 3.4204180240631104\n",
            "++++++++++++++++++++ Train Epoch 13 ++++++++++++++++++++\n",
            "Training CE Loss: 10.49978\n",
            "one epoch train: 35.47817802429199\n",
            "++++++++++++++++++++ Valid Epoch 13 ++++++++++++++++++++\n",
            "{'Recall@20': 0.042729592749050686, 'NDCG@20': tensor(0.0198, device='cuda:0'), 'Recall@10': 0.038265307034764974, 'NDCG@10': tensor(0.0188, device='cuda:0'), 'Recall@5': 0.033801021320479255, 'NDCG@5': tensor(0.0174, device='cuda:0'), 'Recall@1': 0.004464285714285714, 'NDCG@1': tensor(0.0045, device='cuda:0')}\n",
            "one epoch val: 3.4783854484558105\n",
            "++++++++++++++++++++ Train Epoch 14 ++++++++++++++++++++\n",
            "Training CE Loss: 10.47643\n",
            "one epoch train: 33.10208439826965\n",
            "++++++++++++++++++++ Valid Epoch 14 ++++++++++++++++++++\n",
            "{'Recall@20': 0.042729592749050686, 'NDCG@20': tensor(0.0191, device='cuda:0'), 'Recall@10': 0.038265307034764974, 'NDCG@10': tensor(0.0181, device='cuda:0'), 'Recall@5': 0.033801021320479255, 'NDCG@5': tensor(0.0168, device='cuda:0'), 'Recall@1': 0.004464285714285714, 'NDCG@1': tensor(0.0045, device='cuda:0')}\n",
            "one epoch val: 3.3852827548980713\n",
            "++++++++++++++++++++ Train Epoch 15 ++++++++++++++++++++\n",
            "Training CE Loss: 10.45533\n",
            "one epoch train: 33.2763454914093\n",
            "++++++++++++++++++++ Valid Epoch 15 ++++++++++++++++++++\n",
            "{'Recall@20': 0.042729592749050686, 'NDCG@20': tensor(0.0198, device='cuda:0'), 'Recall@10': 0.038265307034764974, 'NDCG@10': tensor(0.0188, device='cuda:0'), 'Recall@5': 0.033801021320479255, 'NDCG@5': tensor(0.0174, device='cuda:0'), 'Recall@1': 0.004464285714285714, 'NDCG@1': tensor(0.0045, device='cuda:0')}\n",
            "one epoch val: 3.3225176334381104\n",
            "++++++++++++++++++++ Train Epoch 16 ++++++++++++++++++++\n",
            "Training CE Loss: 10.43783\n",
            "one epoch train: 33.42098116874695\n",
            "++++++++++++++++++++ Valid Epoch 16 ++++++++++++++++++++\n",
            "{'Recall@20': 0.038265307034764974, 'NDCG@20': tensor(0.0187, device='cuda:0'), 'Recall@10': 0.038265307034764974, 'NDCG@10': tensor(0.0187, device='cuda:0'), 'Recall@5': 0.033801021320479255, 'NDCG@5': tensor(0.0174, device='cuda:0'), 'Recall@1': 0.004464285714285714, 'NDCG@1': tensor(0.0045, device='cuda:0')}\n",
            "one epoch val: 3.377704381942749\n",
            "++++++++++++++++++++ Train Epoch 17 ++++++++++++++++++++\n",
            "Training CE Loss: 10.42380\n",
            "one epoch train: 35.404147148132324\n",
            "++++++++++++++++++++ Valid Epoch 17 ++++++++++++++++++++\n",
            "{'Recall@20': 0.0471938784633364, 'NDCG@20': tensor(0.0202, device='cuda:0'), 'Recall@10': 0.038265307034764974, 'NDCG@10': tensor(0.0181, device='cuda:0'), 'Recall@5': 0.033801021320479255, 'NDCG@5': tensor(0.0168, device='cuda:0'), 'Recall@1': 0.004464285714285714, 'NDCG@1': tensor(0.0045, device='cuda:0')}\n",
            "one epoch val: 3.188389778137207\n",
            "++++++++++++++++++++ Train Epoch 18 ++++++++++++++++++++\n",
            "Training CE Loss: 10.40895\n",
            "one epoch train: 32.85674238204956\n",
            "++++++++++++++++++++ Valid Epoch 18 ++++++++++++++++++++\n",
            "{'Recall@20': 0.0471938784633364, 'NDCG@20': tensor(0.0207, device='cuda:0'), 'Recall@10': 0.033801021320479255, 'NDCG@10': tensor(0.0174, device='cuda:0'), 'Recall@5': 0.033801021320479255, 'NDCG@5': tensor(0.0174, device='cuda:0'), 'Recall@1': 0.004464285714285714, 'NDCG@1': tensor(0.0045, device='cuda:0')}\n",
            "one epoch val: 2.897313356399536\n",
            "++++++++++++++++++++ Train Epoch 19 ++++++++++++++++++++\n",
            "Training CE Loss: 10.40078\n",
            "one epoch train: 33.9976282119751\n",
            "++++++++++++++++++++ Valid Epoch 19 ++++++++++++++++++++\n",
            "{'Recall@20': 0.0471938784633364, 'NDCG@20': tensor(0.0208, device='cuda:0'), 'Recall@10': 0.033801021320479255, 'NDCG@10': tensor(0.0174, device='cuda:0'), 'Recall@5': 0.033801021320479255, 'NDCG@5': tensor(0.0174, device='cuda:0'), 'Recall@1': 0.004464285714285714, 'NDCG@1': tensor(0.0045, device='cuda:0')}\n",
            "one epoch val: 2.917402744293213\n",
            "++++++++++++++++++++ Train Epoch 20 ++++++++++++++++++++\n",
            "Training CE Loss: 10.39142\n",
            "one epoch train: 32.74285578727722\n",
            "++++++++++++++++++++ Valid Epoch 20 ++++++++++++++++++++\n",
            "{'Recall@20': 0.0471938784633364, 'NDCG@20': tensor(0.0202, device='cuda:0'), 'Recall@10': 0.038265307034764974, 'NDCG@10': tensor(0.0181, device='cuda:0'), 'Recall@5': 0.033801021320479255, 'NDCG@5': tensor(0.0168, device='cuda:0'), 'Recall@1': 0.004464285714285714, 'NDCG@1': tensor(0.0045, device='cuda:0')}\n",
            "one epoch val: 2.884460926055908\n",
            "train_time: 680.9812607765198\n",
            "val_time: 65.44426393508911\n"
          ]
        },
        {
          "data": {
            "text/plain": [
              "SASRec(\n",
              "  (bert): BERT(\n",
              "    (embedding): BERTEmbedding(\n",
              "      (token): TokenEmbedding(201098, 8, padding_idx=0)\n",
              "      (position): PositionalEmbedding(\n",
              "        (pe): Embedding(30, 8)\n",
              "      )\n",
              "      (dropout): Dropout(p=0.1, inplace=False)\n",
              "    )\n",
              "    (transformer_blocks): ModuleList(\n",
              "      (0-1): 2 x TransformerBlock(\n",
              "        (attention): MultiHeadedAttention(\n",
              "          (linear_layers): ModuleList(\n",
              "            (0-2): 3 x Linear(in_features=8, out_features=8, bias=True)\n",
              "          )\n",
              "          (output_linear): Linear(in_features=8, out_features=8, bias=True)\n",
              "          (attention): Attention()\n",
              "          (dropout): Dropout(p=0.1, inplace=False)\n",
              "        )\n",
              "        (feed_forward): PositionwiseFeedForward(\n",
              "          (w_1): Linear(in_features=8, out_features=32, bias=True)\n",
              "          (w_2): Linear(in_features=32, out_features=8, bias=True)\n",
              "          (dropout): Dropout(p=0.1, inplace=False)\n",
              "          (activation): GELU()\n",
              "        )\n",
              "        (input_sublayer): SublayerConnection(\n",
              "          (norm): LayerNorm((8,), eps=1e-05, elementwise_affine=True)\n",
              "          (dropout): Dropout(p=0.1, inplace=False)\n",
              "        )\n",
              "        (output_sublayer): SublayerConnection(\n",
              "          (norm): LayerNorm((8,), eps=1e-05, elementwise_affine=True)\n",
              "          (dropout): Dropout(p=0.1, inplace=False)\n",
              "        )\n",
              "        (dropout): Dropout(p=0.1, inplace=False)\n",
              "      )\n",
              "    )\n",
              "  )\n",
              "  (out): Linear(in_features=8, out_features=201098, bias=True)\n",
              ")"
            ]
          },
          "execution_count": 56,
          "metadata": {},
          "output_type": "execute_result"
        }
      ],
      "source": [
        "#  Train the SASRec model 'model1' using the 'SeqTrain' function\n",
        "trainer.SeqTrain(args1.epochs, model1, train_dataloader1, valid_dataloader1, writer, args1)"
      ]
    },
    {
      "cell_type": "markdown",
      "metadata": {
        "id": "BqPByQG92-SD"
      },
      "source": [
        "#### Model Evaluation"
      ]
    },
    {
      "cell_type": "markdown",
      "metadata": {
        "id": "KektElP3kD8m"
      },
      "source": [
        "Load the best model weights 'best_weight1' from the specified file path, determined by 'args1' parameters.\n",
        "Load the best model weights into the 'model1' SASRec model.\n",
        "Move the 'model1' to the specified 'args1.device' for computation.\n",
        "Perform sequence validation using the 'Sequence_full_Validate' function with the loaded model 'model1' and 'test_dataloader1' for testing (test=False).\n",
        "Close the writer used for logging and visualization (assuming 'writer' is initialized and used for logging)."
      ]
    },
    {
      "cell_type": "code",
      "execution_count": null,
      "metadata": {
        "colab": {
          "base_uri": "https://localhost:8080/"
        },
        "id": "tAk-p9wU2-SD",
        "outputId": "66f8f189-54cb-4adc-a783-35c38a5ae8a9"
      },
      "outputs": [
        {
          "name": "stdout",
          "output_type": "stream",
          "text": [
            "++++++++++++++++++++ Valid Epoch 1 ++++++++++++++++++++\n",
            "{'Recall@20': 0.02603888888955116, 'NDCG@20': tensor(0.0103, device='cuda:0'), 'Recall@10': 0.015688888889551163, 'NDCG@10': tensor(0.0077, device='cuda:0'), 'Recall@5': 0.00895, 'NDCG@5': tensor(0.0056, device='cuda:0'), 'Recall@1': 0.00225, 'NDCG@1': tensor(0.0022, device='cuda:0')}\n"
          ]
        }
      ],
      "source": [
        "#Load and validate the best model using the specified parameters.\n",
        "best_weight1 = torch.load(os.path.join(args1.save_path, f'{args1.model_name}_seed{args1.seed}_is_pretrain_{args1.is_pretrain}_best_model_lr{args1.lr}_wd{args1.weight_decay}_block{args1.block_num}_hd{args1.hidden_size}_emb{args1.embedding_size}.pth'))\n",
        "model1.load_state_dict(best_weight1)\n",
        "model1 = model1.to(args1.device)\n",
        "metrics1 = trainer.Sequence_full_Validate(0, model1, test_dataloader1, writer, args1, test=False)\n",
        "writer.close()"
      ]
    },
    {
      "cell_type": "markdown",
      "metadata": {
        "id": "KtlrSbjX2-SD"
      },
      "source": [
        "## Observation for model1"
      ]
    },
    {
      "cell_type": "markdown",
      "metadata": {
        "id": "wZ5zKcwOqgsf"
      },
      "source": [
        "**Observation about the model performance in training in  experiment 1 when Extract a subset of the 'data' DataFrame containing the first one million rows with age equal to 3.**\n",
        "\n",
        "\n",
        "\n",
        " the model's performance appears to be improving during training, as indicated by the decreasing training loss over epochs. However, the evaluation metrics for the validation set (e.g., Recall@20, NDCG@20) remain relatively low, suggesting that the model's ability to predict top-ranked items is limited.\n",
        "\n",
        "Recall@20 measures the percentage of correct recommendations among the top 20 items recommended to users, while NDCG@20 (Normalized Discounted Cumulative Gain) evaluates the ranking quality of the top 20 recommended items. Both metrics have scores close to zero, indicating that the model is not consistently making highly accurate recommendations for users."
      ]
    },
    {
      "cell_type": "markdown",
      "metadata": {
        "id": "gD1TUwgKsQZH"
      },
      "source": [
        "**observation about the model performance on the test data**\n",
        "\n",
        " the model's performance on the test data appears to be moderately successful but still has room for improvement. The evaluation metrics (e.g., Recall@20, NDCG@20) are relatively higher than what was observed during the training phase, indicating that the model has learned to make more accurate recommendations on the test data.\n",
        "\n",
        "For example, Recall@20 measures the percentage of correct recommendations among the top 20 items recommended to users. Here, the model achieved a value of approximately 0.026, which means that around 2.6% of the correct items were present in the top 20 recommended items for each user in the test set.\n",
        "\n",
        "Similarly, NDCG@20 (Normalized Discounted Cumulative Gain) evaluates the ranking quality of the top 20 recommended items. The model achieved an NDCG@20 value of approximately 0.0103, indicating that the ranked recommendations have some degree of relevance for the users in the test set.\n",
        "\n",
        "However, the performance is still relatively low overall, suggesting that the model may not consistently provide highly accurate recommendations for all users. and the model performance will be compared to r state-of-the-art models on the same test set and we will choose the best model performing in the dataset"
      ]
    },
    {
      "cell_type": "markdown",
      "metadata": {
        "id": "D1Sfeb0ClSDg"
      },
      "source": [
        "# Experiment 2"
      ]
    },
    {
      "cell_type": "markdown",
      "metadata": {
        "id": "BztvDpXxlSDg"
      },
      "source": [
        "---"
      ]
    },
    {
      "cell_type": "markdown",
      "metadata": {
        "id": "F8iS_xc-lSDg"
      },
      "source": [
        "## Collaborative Filtering\n",
        "\n",
        "Ways to determine whether user-based or item-based collaborative filtering is more suitable:"
      ]
    },
    {
      "cell_type": "markdown",
      "metadata": {
        "id": "DZd47xVKlSDg"
      },
      "source": [
        "- User-based filtering is better when you have a large number of users with consistent preferences and behaviors, and when users have interacted with a significant portion of the available items.\n",
        "- Item-based filtering is better when you have a large number of items with consistent characteristics and interactions, and when users have interacted with only a small fraction of the available items."
      ]
    },
    {
      "cell_type": "code",
      "execution_count": null,
      "metadata": {
        "colab": {
          "base_uri": "https://localhost:8080/"
        },
        "id": "tLpGW6wXlSDg",
        "outputId": "d91170c8-106d-4da7-c9e5-90a09323a602"
      },
      "outputs": [
        {
          "data": {
            "text/plain": [
              "21456"
            ]
          },
          "execution_count": 58,
          "metadata": {},
          "output_type": "execute_result"
        }
      ],
      "source": [
        "#Calculate the number of unique 'user_id' values in the 'age2' DataFrame.\n",
        "age2['user_id'].nunique()"
      ]
    },
    {
      "cell_type": "code",
      "execution_count": null,
      "metadata": {
        "colab": {
          "base_uri": "https://localhost:8080/"
        },
        "id": "SUF3KHlRlSDh",
        "outputId": "20fc9f4f-3f17-40e7-be73-b5f57fad2394"
      },
      "outputs": [
        {
          "data": {
            "text/plain": [
              "218236"
            ]
          },
          "execution_count": 59,
          "metadata": {},
          "output_type": "execute_result"
        }
      ],
      "source": [
        "# Calculate the number of unique 'item_id' values in the 'age2'\n",
        "age2['item_id'].nunique()"
      ]
    },
    {
      "cell_type": "markdown",
      "metadata": {
        "id": "zfbJoVwWlSDh"
      },
      "source": [
        "They are near to each others."
      ]
    },
    {
      "cell_type": "markdown",
      "metadata": {
        "id": "3q_AH4v3lSDh"
      },
      "source": [
        "- If your data is highly sparse (few interactions per user), item-based filtering is more suitable. If your data is less sparse (many interactions per user), user-based filtering may be more suitable."
      ]
    },
    {
      "cell_type": "code",
      "execution_count": null,
      "metadata": {
        "colab": {
          "base_uri": "https://localhost:8080/",
          "height": 507
        },
        "id": "qosWAcBWlSDh",
        "outputId": "4fe239f7-46ef-4f53-f953-b6fcc6b6e940"
      },
      "outputs": [
        {
          "data": {
            "image/png": "[encoded data removed]",
            "text/plain": [
              "<Figure size 1000x500 with 3 Axes>"
            ]
          },
          "metadata": {},
          "output_type": "display_data"
        }
      ],
      "source": [
        "# Display bar plots for the top 10 value counts of each column ('follow', 'like', 'share') in the 'age2' DataFrame. Subplots organized in 3 columns per row.\n",
        "display_value_counts_bar(age2[['follow', 'like', 'share']], 3)"
      ]
    },
    {
      "cell_type": "markdown",
      "metadata": {
        "id": "tfvGJNOmlSDh"
      },
      "source": [
        "Data is highly sparse, So we can say that Item-Based filtering is more suitable."
      ]
    },
    {
      "cell_type": "markdown",
      "metadata": {
        "id": "LloG_YCjlSDh"
      },
      "source": [
        "---"
      ]
    },
    {
      "cell_type": "markdown",
      "metadata": {
        "id": "X76YQMnilSDh"
      },
      "source": [
        "## Save Point"
      ]
    },
    {
      "cell_type": "code",
      "execution_count": null,
      "metadata": {
        "id": "2zaFXEbElSDh"
      },
      "outputs": [],
      "source": [
        "# Load the dataset\n",
        "df2 = age2.copy()"
      ]
    },
    {
      "cell_type": "markdown",
      "metadata": {
        "id": "Az98nvKUlSDh"
      },
      "source": [
        "---"
      ]
    },
    {
      "cell_type": "markdown",
      "metadata": {
        "id": "hnH9VdEz3Wtk"
      },
      "source": [
        "### Sessions Analysis"
      ]
    },
    {
      "cell_type": "code",
      "execution_count": null,
      "metadata": {
        "colab": {
          "base_uri": "https://localhost:8080/"
        },
        "id": "wP0eDgTg3Wtq",
        "outputId": "cf6ccd9d-7ba6-437e-f322-d6094588c9ba"
      },
      "outputs": [
        {
          "data": {
            "text/plain": [
              "218236"
            ]
          },
          "execution_count": 62,
          "metadata": {},
          "output_type": "execute_result"
        }
      ],
      "source": [
        "# Calculate the number of unique 'item_id' values in the 'df2' DataFrame and store it in 'num_items2'.\n",
        "num_items2 = df2['item_id'].nunique()\n",
        "num_items2"
      ]
    },
    {
      "cell_type": "code",
      "execution_count": null,
      "metadata": {
        "id": "9Uq-v5lznS5f"
      },
      "outputs": [],
      "source": [
        "# Calculate the number of unique 'user_id' values in the 'df2' DataFrame and store it in 'num_users2'.\n",
        "\n",
        "num_users2 = df2['user_id'].nunique()\n",
        "num_users2"
      ]
    },
    {
      "cell_type": "code",
      "execution_count": null,
      "metadata": {
        "colab": {
          "base_uri": "https://localhost:8080/"
        },
        "id": "WbTQ27453Wtr",
        "outputId": "8e692632-e050-4a40-bf1f-d443e0e0e7cc"
      },
      "outputs": [
        {
          "data": {
            "text/plain": [
              "count    21456.000000\n",
              "mean        46.607010\n",
              "std         40.051507\n",
              "min          1.000000\n",
              "25%         19.000000\n",
              "50%         35.000000\n",
              "75%         60.000000\n",
              "max        698.000000\n",
              "Name: user_id, dtype: float64"
            ]
          },
          "execution_count": 64,
          "metadata": {},
          "output_type": "execute_result"
        }
      ],
      "source": [
        "# Compute descriptive statistics for the distribution of user interactions in the 'df2' DataFrame, including count, mean, standard deviation, minimum, 25th percentile, median (50th percentile), 75th percentile, and maximum.\n",
        "df2['user_id'].value_counts().sort_values(ascending=False).describe()"
      ]
    },
    {
      "cell_type": "markdown",
      "metadata": {
        "id": "bir7zGG33Y1z"
      },
      "source": [
        "---"
      ]
    },
    {
      "cell_type": "markdown",
      "metadata": {
        "id": "9MEydN0OlSDh"
      },
      "source": [
        "## Features Engineering"
      ]
    },
    {
      "cell_type": "code",
      "execution_count": null,
      "metadata": {
        "colab": {
          "base_uri": "https://localhost:8080/",
          "height": 442
        },
        "id": "ld9zFIXvlSDh",
        "outputId": "49055081-ce47-49e0-f06a-5a52ba0f9424"
      },
      "outputs": [
        {
          "data": {
            "text/plain": [
              "<Axes: >"
            ]
          },
          "execution_count": 65,
          "metadata": {},
          "output_type": "execute_result"
        },
        {
          "data": {
            "image/png": "[encoded data removed]",
            "text/plain": [
              "<Figure size 640x480 with 1 Axes>"
            ]
          },
          "metadata": {},
          "output_type": "display_data"
        }
      ],
      "source": [
        "# The column `click` contains only the value `1` so it is better to be dropped.\n",
        "df2['click'].value_counts().plot.bar()"
      ]
    },
    {
      "cell_type": "code",
      "execution_count": null,
      "metadata": {
        "colab": {
          "base_uri": "https://localhost:8080/",
          "height": 507
        },
        "id": "mvJMKzSKlSDh",
        "outputId": "a4ba0e9c-06a6-43f1-b8bf-1ae6b56d9da5"
      },
      "outputs": [
        {
          "data": {
            "image/png": "[encoded data removed]",
            "text/plain": [
              "<Figure size 1000x500 with 3 Axes>"
            ]
          },
          "metadata": {},
          "output_type": "display_data"
        }
      ],
      "source": [
        "# follow, like and share are highly sparse so it is better to drop them.\n",
        "display_value_counts_bar(df2[['follow', 'like', 'share']], 3)"
      ]
    },
    {
      "cell_type": "code",
      "execution_count": null,
      "metadata": {
        "id": "QZ3XwPOClSDi"
      },
      "outputs": [],
      "source": [
        "# drop the 4 columns 'click', 'follow', 'like', 'share'\n",
        "df2.drop(columns=['click', 'follow', 'like', 'share'], axis=1, inplace=True)"
      ]
    },
    {
      "cell_type": "markdown",
      "metadata": {
        "id": "KkDQw1CUlSDi"
      },
      "source": [
        "---"
      ]
    },
    {
      "cell_type": "markdown",
      "metadata": {
        "id": "l9rqUJcZlSDi"
      },
      "source": [
        "## Session Representation\n",
        "- Session Initialization\n",
        "- Session Length Filtering\n",
        "- Session Sorting - already sorted\n",
        "- Session Padding"
      ]
    },
    {
      "cell_type": "markdown",
      "metadata": {
        "id": "QoabFehllSDi"
      },
      "source": [
        "### Map Items ids"
      ]
    },
    {
      "cell_type": "code",
      "execution_count": null,
      "metadata": {
        "id": "DNWBBIielSDi"
      },
      "outputs": [],
      "source": [
        "# Create a mapping dictionary 'itemIdMapping2' that assigns unique 'item_id' values in the 'df2' DataFrame to sequential integer values starting from 1.\n",
        "itemIdMapping2 = {k:i+1 for i, k in enumerate(sorted(list(df2['item_id'].unique())))}"
      ]
    },
    {
      "cell_type": "code",
      "execution_count": null,
      "metadata": {
        "id": "6g1p8CrQlSDi"
      },
      "outputs": [],
      "source": [
        "# Create a new column 'item_id_mapped' in the 'df2' DataFrame that maps the original 'item_id' values to their corresponding sequential integer values using the 'itemIdMapping2' dictionary.\n",
        "df2[\"item_id_mapped\"] = df2['item_id'].map(itemIdMapping2)"
      ]
    },
    {
      "cell_type": "code",
      "execution_count": null,
      "metadata": {
        "colab": {
          "base_uri": "https://localhost:8080/",
          "height": 206
        },
        "id": "f9E9BAGrlSDi",
        "outputId": "bb2ace70-2072-4fa3-d4db-ea8a6d9b0fc2"
      },
      "outputs": [
        {
          "data": {
            "text/html": [
              "<div>\n",
              "<style scoped>\n",
              "    .dataframe tbody tr th:only-of-type {\n",
              "        vertical-align: middle;\n",
              "    }\n",
              "\n",
              "    .dataframe tbody tr th {\n",
              "        vertical-align: top;\n",
              "    }\n",
              "\n",
              "    .dataframe thead th {\n",
              "        text-align: right;\n",
              "    }\n",
              "</style>\n",
              "<table border=\"1\" class=\"dataframe\">\n",
              "  <thead>\n",
              "    <tr style=\"text-align: right;\">\n",
              "      <th></th>\n",
              "      <th>user_id</th>\n",
              "      <th>item_id</th>\n",
              "      <th>video_category</th>\n",
              "      <th>watching_times</th>\n",
              "      <th>gender</th>\n",
              "      <th>age</th>\n",
              "      <th>item_id_mapped</th>\n",
              "    </tr>\n",
              "  </thead>\n",
              "  <tbody>\n",
              "    <tr>\n",
              "      <th>247</th>\n",
              "      <td>8</td>\n",
              "      <td>97</td>\n",
              "      <td>1</td>\n",
              "      <td>2</td>\n",
              "      <td>0</td>\n",
              "      <td>0</td>\n",
              "      <td>86</td>\n",
              "    </tr>\n",
              "    <tr>\n",
              "      <th>248</th>\n",
              "      <td>8</td>\n",
              "      <td>98</td>\n",
              "      <td>1</td>\n",
              "      <td>2</td>\n",
              "      <td>0</td>\n",
              "      <td>0</td>\n",
              "      <td>87</td>\n",
              "    </tr>\n",
              "    <tr>\n",
              "      <th>249</th>\n",
              "      <td>8</td>\n",
              "      <td>99</td>\n",
              "      <td>0</td>\n",
              "      <td>2</td>\n",
              "      <td>0</td>\n",
              "      <td>0</td>\n",
              "      <td>88</td>\n",
              "    </tr>\n",
              "    <tr>\n",
              "      <th>250</th>\n",
              "      <td>8</td>\n",
              "      <td>106</td>\n",
              "      <td>1</td>\n",
              "      <td>2</td>\n",
              "      <td>0</td>\n",
              "      <td>0</td>\n",
              "      <td>94</td>\n",
              "    </tr>\n",
              "    <tr>\n",
              "      <th>251</th>\n",
              "      <td>8</td>\n",
              "      <td>400846</td>\n",
              "      <td>0</td>\n",
              "      <td>1</td>\n",
              "      <td>0</td>\n",
              "      <td>0</td>\n",
              "      <td>134365</td>\n",
              "    </tr>\n",
              "  </tbody>\n",
              "</table>\n",
              "</div>"
            ],
            "text/plain": [
              "     user_id  item_id  video_category  watching_times  gender  age  \\\n",
              "247        8       97               1               2       0    0   \n",
              "248        8       98               1               2       0    0   \n",
              "249        8       99               0               2       0    0   \n",
              "250        8      106               1               2       0    0   \n",
              "251        8   400846               0               1       0    0   \n",
              "\n",
              "     item_id_mapped  \n",
              "247              86  \n",
              "248              87  \n",
              "249              88  \n",
              "250              94  \n",
              "251          134365  "
            ]
          },
          "execution_count": 70,
          "metadata": {},
          "output_type": "execute_result"
        }
      ],
      "source": [
        "df2.head()"
      ]
    },
    {
      "cell_type": "markdown",
      "metadata": {
        "id": "ff4UBIf7lSDi"
      },
      "source": [
        "### Session Initialization"
      ]
    },
    {
      "cell_type": "code",
      "execution_count": null,
      "metadata": {
        "id": "Av3RGjHFlSDi"
      },
      "outputs": [],
      "source": [
        "# Group the 'df2' DataFrame by 'user_id' and create a new DataFrame 'sessions2' that contains lists of 'item_id_mapped' values for each user.\n",
        "sessions2 = df2.groupby(\"user_id\")[['item_id_mapped']].agg(list)"
      ]
    },
    {
      "cell_type": "code",
      "execution_count": null,
      "metadata": {
        "colab": {
          "base_uri": "https://localhost:8080/",
          "height": 237
        },
        "id": "aH_a-ooglSDi",
        "outputId": "603a9166-2d57-4721-96e2-6daf33f188fd"
      },
      "outputs": [
        {
          "data": {
            "text/html": [
              "<div>\n",
              "<style scoped>\n",
              "    .dataframe tbody tr th:only-of-type {\n",
              "        vertical-align: middle;\n",
              "    }\n",
              "\n",
              "    .dataframe tbody tr th {\n",
              "        vertical-align: top;\n",
              "    }\n",
              "\n",
              "    .dataframe thead th {\n",
              "        text-align: right;\n",
              "    }\n",
              "</style>\n",
              "<table border=\"1\" class=\"dataframe\">\n",
              "  <thead>\n",
              "    <tr style=\"text-align: right;\">\n",
              "      <th></th>\n",
              "      <th>item_id_mapped</th>\n",
              "    </tr>\n",
              "    <tr>\n",
              "      <th>user_id</th>\n",
              "      <th></th>\n",
              "    </tr>\n",
              "  </thead>\n",
              "  <tbody>\n",
              "    <tr>\n",
              "      <th>8</th>\n",
              "      <td>[86, 87, 88, 94, 134365, 16718, 124451, 10470,...</td>\n",
              "    </tr>\n",
              "    <tr>\n",
              "      <th>10</th>\n",
              "      <td>[101, 102, 103, 104, 105, 106, 107, 108, 109, ...</td>\n",
              "    </tr>\n",
              "    <tr>\n",
              "      <th>31</th>\n",
              "      <td>[329, 332, 219, 337, 339, 36, 9216, 5216, 2994...</td>\n",
              "    </tr>\n",
              "    <tr>\n",
              "      <th>43</th>\n",
              "      <td>[458, 459, 461, 462, 463, 88777, 74620, 60807,...</td>\n",
              "    </tr>\n",
              "    <tr>\n",
              "      <th>53</th>\n",
              "      <td>[71, 992, 38147, 27706, 29003, 3334, 24489, 43...</td>\n",
              "    </tr>\n",
              "  </tbody>\n",
              "</table>\n",
              "</div>"
            ],
            "text/plain": [
              "                                            item_id_mapped\n",
              "user_id                                                   \n",
              "8        [86, 87, 88, 94, 134365, 16718, 124451, 10470,...\n",
              "10       [101, 102, 103, 104, 105, 106, 107, 108, 109, ...\n",
              "31       [329, 332, 219, 337, 339, 36, 9216, 5216, 2994...\n",
              "43       [458, 459, 461, 462, 463, 88777, 74620, 60807,...\n",
              "53       [71, 992, 38147, 27706, 29003, 3334, 24489, 43..."
            ]
          },
          "execution_count": 72,
          "metadata": {},
          "output_type": "execute_result"
        }
      ],
      "source": [
        "sessions2.head()"
      ]
    },
    {
      "cell_type": "markdown",
      "metadata": {
        "id": "o7f9yhwflSDi"
      },
      "source": [
        "### Session Length Filtering"
      ]
    },
    {
      "cell_type": "code",
      "execution_count": null,
      "metadata": {
        "id": "gNUCsMltlSDi"
      },
      "outputs": [],
      "source": [
        "min_sequance_length = 10\n",
        "max_sequance_length = 30"
      ]
    },
    {
      "cell_type": "markdown",
      "metadata": {
        "id": "YOBTIwzhWXPP"
      },
      "source": [
        "Once session sequences are from `1` to `563` but `50%` are of length `34` or less and `75%` are `59` or less, we can use a mean point `45` as max sequance length to reduce the number of padding in the data and we can also make the min sequance length as `10` instead of `1` where any number less than `10` can't create a meaningful sequance."
      ]
    },
    {
      "cell_type": "code",
      "execution_count": null,
      "metadata": {
        "id": "zzZxXWkTlSDj"
      },
      "outputs": [],
      "source": [
        "# filter min length\n",
        "sessions2 = sessions2[sessions2['item_id_mapped'].apply(lambda x: len(x) > min_sequance_length)]"
      ]
    },
    {
      "cell_type": "code",
      "execution_count": null,
      "metadata": {
        "id": "2dxeDYlelSDj"
      },
      "outputs": [],
      "source": [
        "# apply max length\n",
        "sessions2['item_id_mapped'] = sessions2['item_id_mapped'].apply(lambda x: x[:max_sequance_length])"
      ]
    },
    {
      "cell_type": "code",
      "execution_count": null,
      "metadata": {
        "colab": {
          "base_uri": "https://localhost:8080/"
        },
        "id": "xwKFkuGalSDj",
        "outputId": "81d3f1df-0517-45dc-ff96-d8513dfc6b03"
      },
      "outputs": [
        {
          "data": {
            "text/plain": [
              "array([list([86, 87, 88, 94, 134365, 16718, 124451, 10470, 2231, 5577, 1763, 3862, 26336, 510, 12564, 10382, 28143, 41817, 17041, 5914, 16773, 140819, 62883, 14851, 1562, 27376, 4774, 98, 1323, 20747]),\n",
              "       list([101, 102, 103, 104, 105, 106, 107, 108, 109, 110, 113, 115, 133759, 133760, 133761, 147053, 147054, 147055, 12305, 152897, 152898, 156088, 5893, 158074, 158075, 158076, 5132, 112628, 124329, 167870]),\n",
              "       list([329, 332, 219, 337, 339, 36, 9216, 5216, 2994, 7659, 10984, 3041, 27117, 6896, 24538, 1815, 5839, 250, 2192, 36033, 640, 15998, 2531, 1606, 3026]),\n",
              "       ...,\n",
              "       list([4800, 45796, 102991, 66, 895, 19787, 4923, 38911, 55911, 2187, 50644, 372, 37127, 71508, 21633, 40788, 4637, 27317, 1121, 3884, 70693, 6493, 29317, 732, 52637, 87923, 10721, 7153, 28965, 95706]),\n",
              "       list([39772, 114994, 18309, 569, 5888, 9470, 40149, 25832, 1954, 18059, 32375, 34944, 6846, 1830, 17341, 18968, 107798, 5750, 1725, 62741, 61497, 60664, 2304, 144208, 6444, 1041, 42879, 12104, 15302, 25246]),\n",
              "       list([36582, 15500, 29300, 6164, 29399, 9485, 11688, 127513, 56616, 50971, 27925, 7438, 113243, 1725, 15730, 10150, 24796, 21361, 29721, 18052, 3722, 6940, 3615, 13296, 36201, 24386, 55814, 6218, 1222])],\n",
              "      dtype=object)"
            ]
          },
          "execution_count": 76,
          "metadata": {},
          "output_type": "execute_result"
        }
      ],
      "source": [
        "sessions2['item_id_mapped'].values"
      ]
    },
    {
      "cell_type": "markdown",
      "metadata": {
        "id": "tjexNn6TlSDj"
      },
      "source": [
        "### Session Padding\n",
        "add padding to the beginning of each sequance"
      ]
    },
    {
      "cell_type": "code",
      "execution_count": null,
      "metadata": {
        "id": "DKE5Hj1ElSDj"
      },
      "outputs": [],
      "source": [
        "# Pad the 'item_id_mapped' lists in the 'sessions2' DataFrame with zeros to achieve a fixed length of 'max_sequence_length'.\n",
        "sessions2['item_id_mapped'] = sessions2['item_id_mapped'].apply(lambda x: [0]*(max_sequance_length-len(x)) + x)"
      ]
    },
    {
      "cell_type": "code",
      "execution_count": null,
      "metadata": {
        "colab": {
          "base_uri": "https://localhost:8080/",
          "height": 237
        },
        "id": "JOfUBk8plSDj",
        "outputId": "d2505a6a-3365-4d2f-bad9-5902b48e2beb"
      },
      "outputs": [
        {
          "data": {
            "text/html": [
              "<div>\n",
              "<style scoped>\n",
              "    .dataframe tbody tr th:only-of-type {\n",
              "        vertical-align: middle;\n",
              "    }\n",
              "\n",
              "    .dataframe tbody tr th {\n",
              "        vertical-align: top;\n",
              "    }\n",
              "\n",
              "    .dataframe thead th {\n",
              "        text-align: right;\n",
              "    }\n",
              "</style>\n",
              "<table border=\"1\" class=\"dataframe\">\n",
              "  <thead>\n",
              "    <tr style=\"text-align: right;\">\n",
              "      <th></th>\n",
              "      <th>item_id_mapped</th>\n",
              "    </tr>\n",
              "    <tr>\n",
              "      <th>user_id</th>\n",
              "      <th></th>\n",
              "    </tr>\n",
              "  </thead>\n",
              "  <tbody>\n",
              "    <tr>\n",
              "      <th>8</th>\n",
              "      <td>[86, 87, 88, 94, 134365, 16718, 124451, 10470,...</td>\n",
              "    </tr>\n",
              "    <tr>\n",
              "      <th>10</th>\n",
              "      <td>[101, 102, 103, 104, 105, 106, 107, 108, 109, ...</td>\n",
              "    </tr>\n",
              "    <tr>\n",
              "      <th>31</th>\n",
              "      <td>[0, 0, 0, 0, 0, 329, 332, 219, 337, 339, 36, 9...</td>\n",
              "    </tr>\n",
              "    <tr>\n",
              "      <th>43</th>\n",
              "      <td>[458, 459, 461, 462, 463, 88777, 74620, 60807,...</td>\n",
              "    </tr>\n",
              "    <tr>\n",
              "      <th>53</th>\n",
              "      <td>[71, 992, 38147, 27706, 29003, 3334, 24489, 43...</td>\n",
              "    </tr>\n",
              "  </tbody>\n",
              "</table>\n",
              "</div>"
            ],
            "text/plain": [
              "                                            item_id_mapped\n",
              "user_id                                                   \n",
              "8        [86, 87, 88, 94, 134365, 16718, 124451, 10470,...\n",
              "10       [101, 102, 103, 104, 105, 106, 107, 108, 109, ...\n",
              "31       [0, 0, 0, 0, 0, 329, 332, 219, 337, 339, 36, 9...\n",
              "43       [458, 459, 461, 462, 463, 88777, 74620, 60807,...\n",
              "53       [71, 992, 38147, 27706, 29003, 3334, 24489, 43..."
            ]
          },
          "execution_count": 78,
          "metadata": {},
          "output_type": "execute_result"
        }
      ],
      "source": [
        "sessions2.head()"
      ]
    },
    {
      "cell_type": "markdown",
      "metadata": {
        "id": "WO6CZIBmlSDj"
      },
      "source": [
        "---"
      ]
    },
    {
      "cell_type": "markdown",
      "metadata": {
        "id": "6C5YjLAflSDj"
      },
      "source": [
        "## Train-Test-Validation Split"
      ]
    },
    {
      "cell_type": "code",
      "execution_count": null,
      "metadata": {
        "colab": {
          "base_uri": "https://localhost:8080/"
        },
        "id": "_TOhsIHhlSDj",
        "outputId": "3bb9d31a-9747-406c-a5ed-03c55c82e202"
      },
      "outputs": [
        {
          "name": "stderr",
          "output_type": "stream",
          "text": [
            "100%|██████████| 20657/20657 [00:00<00:00, 734887.26it/s]\n"
          ]
        }
      ],
      "source": [
        "#Split the 'sessions2' DataFrame into three sets - 'train_data2', 'val_data2', and 'test_data2' - using the 'train_val_test_split' function. The function converts the 'item_id_mapped' lists to dictionaries.\n",
        "train_data2, val_data2, test_data2 = dataset.train_val_test_split(sessions2['item_id_mapped'].apply(list).to_dict())"
      ]
    },
    {
      "cell_type": "markdown",
      "metadata": {
        "id": "kWy8lyfGlSDj"
      },
      "source": [
        "---"
      ]
    },
    {
      "cell_type": "markdown",
      "metadata": {
        "id": "8A3Uz6vtlSDj"
      },
      "source": [
        "## Model Selection\n",
        "\n",
        "Steps for Session-Based Recommendation:\n",
        "\n",
        "- Research and Understanding: Familiarize yourself with the characteristics, strengths, and limitations of each model considered for session-based recommendation, namely BERT4Rec, GRU4Rec, SASRec, and NextItNet. Gain insights into their architectures, training approaches, and performance on similar tasks.\n",
        "\n",
        "- Evaluation Metrics: Determine the evaluation metrics that align with your project goals, such as precision, recall, Mean Average Precision (MAP), or Normalized Discounted Cumulative Gain (NDCG). Ensure that the selected models can be evaluated using these metrics.\n",
        "\n",
        "- Implementation Suitability: Assess the feasibility and compatibility of each model with the Ternec dataset, session-based recommendation task, and available computational resources. Consider factors such as model complexity, scalability, and ease of implementation.\n",
        "\n",
        "- Model Performance Comparison: Implement and train each model separately using the Ternec dataset. Evaluate their performance on the chosen evaluation metrics using appropriate validation or test sets. Compare their results to identify the model(s) that demonstrate superior performance.\n",
        "\n",
        "- Consideration of Specific Requirements: Consider any specific requirements or constraints of your session-based recommendation project. For example, if interpretability is crucial, assess which model provides more explainable recommendations. Take into account factors like model complexity, training time, or memory requirements.\n",
        "\n",
        "- Robustness and Generalization: Analyze the robustness and generalization capabilities of each model by assessing their performance across different subsets or splits of the Ternec dataset. Consider their ability to handle various session lengths, data sparsity, or different user behavior patterns.\n",
        "\n",
        "- Expert Advice: Consult with experts or researchers in the field of session-based recommendation or deep learning to gather additional insights and recommendations on model selection. Consider their expertise and experiences to inform your decision-making process.\n",
        "\n",
        "- Final Model Selection: Based on the performance comparison, compatibility, requirements, and expert advice, select the model(s) that best meet your project goals, dataset characteristics, and implementation constraints. Ensure that the selected models align with the objectives and resources available for your session-based recommendation project."
      ]
    },
    {
      "cell_type": "markdown",
      "metadata": {
        "id": "Vq7RUr5vlSDj"
      },
      "source": [
        "### Common Argument"
      ]
    },
    {
      "cell_type": "code",
      "execution_count": null,
      "metadata": {
        "id": "YPq9oBQplSDk"
      },
      "outputs": [],
      "source": [
        "#later using args\n",
        "args2 = argparse.Namespace(\n",
        "    seed=22,\n",
        "    save_path='./checkpoint/',\n",
        "    model_name='sasrec2',\n",
        "    device='cuda',\n",
        "\n",
        "    is_parallel=False,\n",
        "\n",
        "    # get_data arguments\n",
        "    item_min=min_sequance_length,\n",
        "    valid_rate=100,\n",
        "    max_len=max_sequance_length,\n",
        "    bert_mask_prob=0.3,\n",
        "    pad_token=0,\n",
        "    train_batch_size=32,\n",
        "    test_batch_size=32,\n",
        "    val_batch_size=32,\n",
        "\n",
        "    # load_model arguments\n",
        "    embedding_size=64,\n",
        "    block_num=2,\n",
        "    dilations=[1, 4],\n",
        "    kernel_size=3,\n",
        "    num_items=num_items2,\n",
        "    num_users=num_users2,\n",
        "    num_heads=4,\n",
        "    dropout=0.1,\n",
        "\n",
        "    # SeqTrain arguments\n",
        "    epochs=20,\n",
        "    is_pretrain=1,\n",
        "    lr=0.0001,\n",
        "    weight_decay=0.0,\n",
        "    local_rank=None,\n",
        "    metric_ks=[1, 5, 10, 20],\n",
        "    hidden_size=8,\n",
        ")"
      ]
    },
    {
      "cell_type": "code",
      "execution_count": null,
      "metadata": {
        "id": "1rLJYpHTlSDk"
      },
      "outputs": [],
      "source": [
        "if args2.is_parallel:\n",
        "    torch.distributed.init_process_group(backend=\"nccl\")\n",
        "    torch.cuda.set_device(args2.local_rank)\n",
        "\n",
        "device = torch.device(args2.device)"
      ]
    },
    {
      "cell_type": "code",
      "execution_count": null,
      "metadata": {
        "id": "V9dckRaTlSDk"
      },
      "outputs": [],
      "source": [
        "# Iterate through the keys of 'val_data1' and copy the corresponding values to 'train_data_s2' and 'val_data_s2'.\n",
        "#Stop the iteration after reaching a number of keys equal to the specified validation rate.\n",
        "train_data_s2, val_data_s2 = {}, {}\n",
        "data_len2 = len(train_data2)\n",
        "i = 0\n",
        "for key, _ in val_data2.items():\n",
        "    train_data_s2[key] = train_data2[key]\n",
        "    val_data_s2[key] = val_data2[key]\n",
        "    i += 1\n",
        "    if i == int(data_len2 / args2.valid_rate):\n",
        "        break"
      ]
    },
    {
      "cell_type": "code",
      "execution_count": null,
      "metadata": {
        "id": "ke8cgj7PlSDk"
      },
      "outputs": [],
      "source": [
        "#Create training, validation, and test datasets using the specified parameters.\n",
        "\n",
        "train_dataset2 = dataset.BuildTrainDataset(train_data2, args2.max_len, args2.pad_token, args2.num_items)\n",
        "valid_dataset2 = dataset.Build_full_EvalDataset(train_data_s2, val_data_s2, args2.max_len, args2.pad_token, args2.num_items)\n",
        "test_dataset2 = dataset.Build_full_EvalDataset(train_data2, test_data2, args2.max_len, args2.pad_token, args2.num_items)"
      ]
    },
    {
      "cell_type": "code",
      "execution_count": null,
      "metadata": {
        "id": "VkhExZghlSDk"
      },
      "outputs": [],
      "source": [
        "##Create data loaders for the training, validation, and test datasets using the specified parameters 'args2'.\n",
        "\n",
        "train_dataloader2 = dataset.get_train_loader(train_dataset2, args2)\n",
        "valid_dataloader2 = dataset.get_val_loader(valid_dataset2, args2)\n",
        "test_dataloader2 = dataset.get_test_loader(test_dataset2, args2)"
      ]
    },
    {
      "cell_type": "markdown",
      "metadata": {
        "id": "9-rpPb6llSDk"
      },
      "source": [
        "### SASRec"
      ]
    },
    {
      "cell_type": "markdown",
      "metadata": {
        "id": "-19nvwnxlSDk"
      },
      "source": [
        "### Create Model"
      ]
    },
    {
      "cell_type": "code",
      "execution_count": null,
      "metadata": {
        "id": "arQ0LgxQlSDk"
      },
      "outputs": [],
      "source": [
        "##Create an instance of the SASRec model using the specified 'args2' parameters.\n",
        "model2 = SASRec(args2)"
      ]
    },
    {
      "cell_type": "markdown",
      "metadata": {
        "id": "JPBBd-vblSDk"
      },
      "source": [
        "#### Model Training"
      ]
    },
    {
      "cell_type": "code",
      "execution_count": null,
      "metadata": {
        "colab": {
          "base_uri": "https://localhost:8080/"
        },
        "id": "WyVeACGelSDk",
        "outputId": "5707487d-d16f-4787-d180-ed493ef68df5"
      },
      "outputs": [
        {
          "name": "stdout",
          "output_type": "stream",
          "text": [
            "++++++++++++++++++++ Train Epoch 1 ++++++++++++++++++++\n"
          ]
        },
        {
          "name": "stdout",
          "output_type": "stream",
          "text": [
            "Training CE Loss: 12.58697\n",
            "one epoch train: 33.324756383895874\n",
            "++++++++++++++++++++ Valid Epoch 1 ++++++++++++++++++++\n",
            "{'Recall@20': 0.0, 'NDCG@20': tensor(0., device='cuda:0'), 'Recall@10': 0.0, 'NDCG@10': tensor(0., device='cuda:0'), 'Recall@5': 0.0, 'NDCG@5': tensor(0., device='cuda:0'), 'Recall@1': 0.0, 'NDCG@1': tensor(0., device='cuda:0')}\n",
            "one epoch val: 3.3587446212768555\n",
            "++++++++++++++++++++ Train Epoch 2 ++++++++++++++++++++\n",
            "Training CE Loss: 12.31302\n",
            "one epoch train: 33.01477932929993\n",
            "++++++++++++++++++++ Valid Epoch 2 ++++++++++++++++++++\n",
            "{'Recall@20': 0.0, 'NDCG@20': tensor(0., device='cuda:0'), 'Recall@10': 0.0, 'NDCG@10': tensor(0., device='cuda:0'), 'Recall@5': 0.0, 'NDCG@5': tensor(0., device='cuda:0'), 'Recall@1': 0.0, 'NDCG@1': tensor(0., device='cuda:0')}\n",
            "one epoch val: 3.1843645572662354\n",
            "++++++++++++++++++++ Train Epoch 3 ++++++++++++++++++++\n",
            "Training CE Loss: 12.05580\n",
            "one epoch train: 32.69250535964966\n",
            "++++++++++++++++++++ Valid Epoch 3 ++++++++++++++++++++\n",
            "{'Recall@20': 0.0, 'NDCG@20': tensor(0., device='cuda:0'), 'Recall@10': 0.0, 'NDCG@10': tensor(0., device='cuda:0'), 'Recall@5': 0.0, 'NDCG@5': tensor(0., device='cuda:0'), 'Recall@1': 0.0, 'NDCG@1': tensor(0., device='cuda:0')}\n",
            "one epoch val: 3.1383962631225586\n",
            "++++++++++++++++++++ Train Epoch 4 ++++++++++++++++++++\n",
            "Training CE Loss: 11.80817\n",
            "one epoch train: 32.726813077926636\n",
            "++++++++++++++++++++ Valid Epoch 4 ++++++++++++++++++++\n",
            "{'Recall@20': 0.0, 'NDCG@20': tensor(0., device='cuda:0'), 'Recall@10': 0.0, 'NDCG@10': tensor(0., device='cuda:0'), 'Recall@5': 0.0, 'NDCG@5': tensor(0., device='cuda:0'), 'Recall@1': 0.0, 'NDCG@1': tensor(0., device='cuda:0')}\n",
            "one epoch val: 3.157338857650757\n",
            "++++++++++++++++++++ Train Epoch 5 ++++++++++++++++++++\n",
            "Training CE Loss: 11.58709\n",
            "one epoch train: 32.97070503234863\n",
            "++++++++++++++++++++ Valid Epoch 5 ++++++++++++++++++++\n",
            "{'Recall@20': 0.004464285714285714, 'NDCG@20': tensor(0.0011, device='cuda:0'), 'Recall@10': 0.0, 'NDCG@10': tensor(0., device='cuda:0'), 'Recall@5': 0.0, 'NDCG@5': tensor(0., device='cuda:0'), 'Recall@1': 0.0, 'NDCG@1': tensor(0., device='cuda:0')}\n",
            "one epoch val: 3.2824723720550537\n",
            "++++++++++++++++++++ Train Epoch 6 ++++++++++++++++++++\n",
            "Training CE Loss: 11.38749\n",
            "one epoch train: 33.06733846664429\n",
            "++++++++++++++++++++ Valid Epoch 6 ++++++++++++++++++++\n",
            "{'Recall@20': 0.008928571428571428, 'NDCG@20': tensor(0.0028, device='cuda:0'), 'Recall@10': 0.004464285714285714, 'NDCG@10': tensor(0.0017, device='cuda:0'), 'Recall@5': 0.004464285714285714, 'NDCG@5': tensor(0.0017, device='cuda:0'), 'Recall@1': 0.0, 'NDCG@1': tensor(0., device='cuda:0')}\n",
            "one epoch val: 3.200509548187256\n",
            "++++++++++++++++++++ Train Epoch 7 ++++++++++++++++++++\n",
            "Training CE Loss: 11.22158\n",
            "one epoch train: 32.494030475616455\n",
            "++++++++++++++++++++ Valid Epoch 7 ++++++++++++++++++++\n",
            "{'Recall@20': 0.008928571428571428, 'NDCG@20': tensor(0.0039, device='cuda:0'), 'Recall@10': 0.004464285714285714, 'NDCG@10': tensor(0.0028, device='cuda:0'), 'Recall@5': 0.004464285714285714, 'NDCG@5': tensor(0.0028, device='cuda:0'), 'Recall@1': 0.0, 'NDCG@1': tensor(0., device='cuda:0')}\n",
            "one epoch val: 3.1925785541534424\n",
            "++++++++++++++++++++ Train Epoch 8 ++++++++++++++++++++\n",
            "Training CE Loss: 11.09459\n",
            "one epoch train: 32.49263143539429\n",
            "++++++++++++++++++++ Valid Epoch 8 ++++++++++++++++++++\n",
            "{'Recall@20': 0.008928571428571428, 'NDCG@20': tensor(0.0055, device='cuda:0'), 'Recall@10': 0.004464285714285714, 'NDCG@10': tensor(0.0045, device='cuda:0'), 'Recall@5': 0.004464285714285714, 'NDCG@5': tensor(0.0045, device='cuda:0'), 'Recall@1': 0.004464285714285714, 'NDCG@1': tensor(0.0045, device='cuda:0')}\n",
            "one epoch val: 3.1950089931488037\n",
            "++++++++++++++++++++ Train Epoch 9 ++++++++++++++++++++\n",
            "Training CE Loss: 10.99684\n",
            "one epoch train: 32.50179862976074\n",
            "++++++++++++++++++++ Valid Epoch 9 ++++++++++++++++++++\n",
            "{'Recall@20': 0.004464285714285714, 'NDCG@20': tensor(0.0045, device='cuda:0'), 'Recall@10': 0.004464285714285714, 'NDCG@10': tensor(0.0045, device='cuda:0'), 'Recall@5': 0.004464285714285714, 'NDCG@5': tensor(0.0045, device='cuda:0'), 'Recall@1': 0.004464285714285714, 'NDCG@1': tensor(0.0045, device='cuda:0')}\n",
            "one epoch val: 3.20745849609375\n",
            "++++++++++++++++++++ Train Epoch 10 ++++++++++++++++++++\n",
            "Training CE Loss: 10.92224\n",
            "one epoch train: 32.534366607666016\n",
            "++++++++++++++++++++ Valid Epoch 10 ++++++++++++++++++++\n",
            "{'Recall@20': 0.008928571428571428, 'NDCG@20': tensor(0.0055, device='cuda:0'), 'Recall@10': 0.004464285714285714, 'NDCG@10': tensor(0.0045, device='cuda:0'), 'Recall@5': 0.004464285714285714, 'NDCG@5': tensor(0.0045, device='cuda:0'), 'Recall@1': 0.004464285714285714, 'NDCG@1': tensor(0.0045, device='cuda:0')}\n",
            "one epoch val: 3.1884188652038574\n",
            "++++++++++++++++++++ Train Epoch 11 ++++++++++++++++++++\n",
            "Training CE Loss: 10.86884\n",
            "one epoch train: 32.5041401386261\n",
            "++++++++++++++++++++ Valid Epoch 11 ++++++++++++++++++++\n",
            "{'Recall@20': 0.013392857142857142, 'NDCG@20': tensor(0.0068, device='cuda:0'), 'Recall@10': 0.004464285714285714, 'NDCG@10': tensor(0.0045, device='cuda:0'), 'Recall@5': 0.004464285714285714, 'NDCG@5': tensor(0.0045, device='cuda:0'), 'Recall@1': 0.004464285714285714, 'NDCG@1': tensor(0.0045, device='cuda:0')}\n",
            "one epoch val: 3.189678192138672\n",
            "++++++++++++++++++++ Train Epoch 12 ++++++++++++++++++++\n",
            "Training CE Loss: 10.82433\n",
            "one epoch train: 32.48118615150452\n",
            "++++++++++++++++++++ Valid Epoch 12 ++++++++++++++++++++\n",
            "{'Recall@20': 0.017857142857142856, 'NDCG@20': tensor(0.0080, device='cuda:0'), 'Recall@10': 0.008928571428571428, 'NDCG@10': tensor(0.0058, device='cuda:0'), 'Recall@5': 0.004464285714285714, 'NDCG@5': tensor(0.0045, device='cuda:0'), 'Recall@1': 0.004464285714285714, 'NDCG@1': tensor(0.0045, device='cuda:0')}\n",
            "one epoch val: 3.2222204208374023\n",
            "++++++++++++++++++++ Train Epoch 13 ++++++++++++++++++++\n",
            "Training CE Loss: 10.79075\n",
            "one epoch train: 32.45660066604614\n",
            "++++++++++++++++++++ Valid Epoch 13 ++++++++++++++++++++\n",
            "{'Recall@20': 0.017857142857142856, 'NDCG@20': tensor(0.0081, device='cuda:0'), 'Recall@10': 0.008928571428571428, 'NDCG@10': tensor(0.0058, device='cuda:0'), 'Recall@5': 0.004464285714285714, 'NDCG@5': tensor(0.0045, device='cuda:0'), 'Recall@1': 0.004464285714285714, 'NDCG@1': tensor(0.0045, device='cuda:0')}\n",
            "one epoch val: 3.1753172874450684\n",
            "++++++++++++++++++++ Train Epoch 14 ++++++++++++++++++++\n",
            "Training CE Loss: 10.76092\n",
            "one epoch train: 32.49887943267822\n",
            "++++++++++++++++++++ Valid Epoch 14 ++++++++++++++++++++\n",
            "{'Recall@20': 0.017857142857142856, 'NDCG@20': tensor(0.0081, device='cuda:0'), 'Recall@10': 0.008928571428571428, 'NDCG@10': tensor(0.0058, device='cuda:0'), 'Recall@5': 0.004464285714285714, 'NDCG@5': tensor(0.0045, device='cuda:0'), 'Recall@1': 0.004464285714285714, 'NDCG@1': tensor(0.0045, device='cuda:0')}\n",
            "one epoch val: 3.1427102088928223\n",
            "++++++++++++++++++++ Train Epoch 15 ++++++++++++++++++++\n",
            "Training CE Loss: 10.73910\n",
            "one epoch train: 32.486512422561646\n",
            "++++++++++++++++++++ Valid Epoch 15 ++++++++++++++++++++\n",
            "{'Recall@20': 0.017857142857142856, 'NDCG@20': tensor(0.0081, device='cuda:0'), 'Recall@10': 0.008928571428571428, 'NDCG@10': tensor(0.0058, device='cuda:0'), 'Recall@5': 0.004464285714285714, 'NDCG@5': tensor(0.0045, device='cuda:0'), 'Recall@1': 0.004464285714285714, 'NDCG@1': tensor(0.0045, device='cuda:0')}\n",
            "one epoch val: 3.181410789489746\n",
            "++++++++++++++++++++ Train Epoch 16 ++++++++++++++++++++\n",
            "Training CE Loss: 10.72035\n",
            "one epoch train: 32.49673056602478\n",
            "++++++++++++++++++++ Valid Epoch 16 ++++++++++++++++++++\n",
            "{'Recall@20': 0.017857142857142856, 'NDCG@20': tensor(0.0081, device='cuda:0'), 'Recall@10': 0.008928571428571428, 'NDCG@10': tensor(0.0058, device='cuda:0'), 'Recall@5': 0.004464285714285714, 'NDCG@5': tensor(0.0045, device='cuda:0'), 'Recall@1': 0.004464285714285714, 'NDCG@1': tensor(0.0045, device='cuda:0')}\n",
            "one epoch val: 3.18438458442688\n",
            "++++++++++++++++++++ Train Epoch 17 ++++++++++++++++++++\n",
            "Training CE Loss: 10.70371\n",
            "one epoch train: 32.470974922180176\n",
            "++++++++++++++++++++ Valid Epoch 17 ++++++++++++++++++++\n",
            "{'Recall@20': 0.017857142857142856, 'NDCG@20': tensor(0.0081, device='cuda:0'), 'Recall@10': 0.008928571428571428, 'NDCG@10': tensor(0.0058, device='cuda:0'), 'Recall@5': 0.004464285714285714, 'NDCG@5': tensor(0.0045, device='cuda:0'), 'Recall@1': 0.004464285714285714, 'NDCG@1': tensor(0.0045, device='cuda:0')}\n",
            "one epoch val: 3.1660187244415283\n",
            "++++++++++++++++++++ Train Epoch 18 ++++++++++++++++++++\n",
            "Training CE Loss: 10.68859\n",
            "one epoch train: 32.439757347106934\n",
            "++++++++++++++++++++ Valid Epoch 18 ++++++++++++++++++++\n",
            "{'Recall@20': 0.017857142857142856, 'NDCG@20': tensor(0.0081, device='cuda:0'), 'Recall@10': 0.008928571428571428, 'NDCG@10': tensor(0.0058, device='cuda:0'), 'Recall@5': 0.004464285714285714, 'NDCG@5': tensor(0.0045, device='cuda:0'), 'Recall@1': 0.004464285714285714, 'NDCG@1': tensor(0.0045, device='cuda:0')}\n",
            "one epoch val: 3.1835691928863525\n",
            "++++++++++++++++++++ Train Epoch 19 ++++++++++++++++++++\n",
            "Training CE Loss: 10.67570\n",
            "one epoch train: 32.480584144592285\n",
            "++++++++++++++++++++ Valid Epoch 19 ++++++++++++++++++++\n",
            "{'Recall@20': 0.017857142857142856, 'NDCG@20': tensor(0.0081, device='cuda:0'), 'Recall@10': 0.008928571428571428, 'NDCG@10': tensor(0.0058, device='cuda:0'), 'Recall@5': 0.004464285714285714, 'NDCG@5': tensor(0.0045, device='cuda:0'), 'Recall@1': 0.004464285714285714, 'NDCG@1': tensor(0.0045, device='cuda:0')}\n",
            "one epoch val: 3.208603858947754\n",
            "++++++++++++++++++++ Train Epoch 20 ++++++++++++++++++++\n",
            "Training CE Loss: 10.66572\n",
            "one epoch train: 32.509615898132324\n",
            "++++++++++++++++++++ Valid Epoch 20 ++++++++++++++++++++\n",
            "{'Recall@20': 0.017857142857142856, 'NDCG@20': tensor(0.0081, device='cuda:0'), 'Recall@10': 0.008928571428571428, 'NDCG@10': tensor(0.0058, device='cuda:0'), 'Recall@5': 0.004464285714285714, 'NDCG@5': tensor(0.0045, device='cuda:0'), 'Recall@1': 0.004464285714285714, 'NDCG@1': tensor(0.0045, device='cuda:0')}\n",
            "one epoch val: 3.212724447250366\n",
            "train_time: 652.6447064876556\n",
            "val_time: 63.97192883491516\n"
          ]
        },
        {
          "data": {
            "text/plain": [
              "SASRec(\n",
              "  (bert): BERT(\n",
              "    (embedding): BERTEmbedding(\n",
              "      (token): TokenEmbedding(218237, 8, padding_idx=0)\n",
              "      (position): PositionalEmbedding(\n",
              "        (pe): Embedding(30, 8)\n",
              "      )\n",
              "      (dropout): Dropout(p=0.1, inplace=False)\n",
              "    )\n",
              "    (transformer_blocks): ModuleList(\n",
              "      (0-1): 2 x TransformerBlock(\n",
              "        (attention): MultiHeadedAttention(\n",
              "          (linear_layers): ModuleList(\n",
              "            (0-2): 3 x Linear(in_features=8, out_features=8, bias=True)\n",
              "          )\n",
              "          (output_linear): Linear(in_features=8, out_features=8, bias=True)\n",
              "          (attention): Attention()\n",
              "          (dropout): Dropout(p=0.1, inplace=False)\n",
              "        )\n",
              "        (feed_forward): PositionwiseFeedForward(\n",
              "          (w_1): Linear(in_features=8, out_features=32, bias=True)\n",
              "          (w_2): Linear(in_features=32, out_features=8, bias=True)\n",
              "          (dropout): Dropout(p=0.1, inplace=False)\n",
              "          (activation): GELU()\n",
              "        )\n",
              "        (input_sublayer): SublayerConnection(\n",
              "          (norm): LayerNorm((8,), eps=1e-05, elementwise_affine=True)\n",
              "          (dropout): Dropout(p=0.1, inplace=False)\n",
              "        )\n",
              "        (output_sublayer): SublayerConnection(\n",
              "          (norm): LayerNorm((8,), eps=1e-05, elementwise_affine=True)\n",
              "          (dropout): Dropout(p=0.1, inplace=False)\n",
              "        )\n",
              "        (dropout): Dropout(p=0.1, inplace=False)\n",
              "      )\n",
              "    )\n",
              "  )\n",
              "  (out): Linear(in_features=8, out_features=218237, bias=True)\n",
              ")"
            ]
          },
          "execution_count": 86,
          "metadata": {},
          "output_type": "execute_result"
        }
      ],
      "source": [
        "#  Train the SASRec model 'model2' using the 'SeqTrain' function\n",
        "\n",
        "trainer.SeqTrain(args2.epochs, model2, train_dataloader2, valid_dataloader2, writer, args2)"
      ]
    },
    {
      "cell_type": "markdown",
      "metadata": {
        "id": "peBbyTEilSDk"
      },
      "source": [
        "#### Model Evaluation"
      ]
    },
    {
      "cell_type": "code",
      "execution_count": null,
      "metadata": {
        "colab": {
          "base_uri": "https://localhost:8080/"
        },
        "id": "zlFRNWdYlSDk",
        "outputId": "1ff2cbe4-2a02-4111-965e-7961f8f54de7"
      },
      "outputs": [
        {
          "name": "stdout",
          "output_type": "stream",
          "text": [
            "++++++++++++++++++++ Valid Epoch 1 ++++++++++++++++++++\n",
            "{'Recall@20': 0.019053906392617493, 'NDCG@20': tensor(0.0079, device='cuda:0'), 'Recall@10': 0.011700965216146903, 'NDCG@10': tensor(0.0061, device='cuda:0'), 'Recall@5': 0.006524881624815634, 'NDCG@5': tensor(0.0044, device='cuda:0'), 'Recall@1': 0.001977668002524612, 'NDCG@1': tensor(0.0020, device='cuda:0')}\n"
          ]
        }
      ],
      "source": [
        "##Load and validate the best model using the specified parameters.\n",
        "\n",
        "best_weight2 = torch.load(os.path.join(args2.save_path, f'{args2.model_name}_seed{args2.seed}_is_pretrain_{args2.is_pretrain}_best_model_lr{args2.lr}_wd{args2.weight_decay}_block{args2.block_num}_hd{args2.hidden_size}_emb{args2.embedding_size}.pth'))\n",
        "model2.load_state_dict(best_weight2)\n",
        "model2 = model2.to(args2.device)\n",
        "metrics2 = trainer.Sequence_full_Validate(0, model2, test_dataloader2, writer, args2, test=False)\n",
        "writer.close()"
      ]
    },
    {
      "cell_type": "markdown",
      "metadata": {
        "id": "0XygO-6nlSDl"
      },
      "source": [
        "## Observation"
      ]
    },
    {
      "cell_type": "markdown",
      "metadata": {
        "id": "7y27zrMutYb3"
      },
      "source": [
        "**Observation about the model performance in training in  experiment 2 when Extract a subset of the 'data' DataFrame containing the first one million rows with age equal to 0.**\n",
        "\n",
        "The model performance seems to be quite limited. The model is not learning effectively, as evidenced by the lack of improvement in evaluation metrics (e.g., Recall@20, NDCG@20) during training epochs.\n",
        "\n",
        "During the entire training process, the Recall@20 and NDCG@20 values are consistently at 0.0, indicating that none of the top 20 recommended items are correct for the users in the validation set. This suggests that the model is not able to make relevant item recommendations at all.\n",
        "\n",
        "However, there is a slight improvement in the Recall@20 metric during later epochs, with a value of 0.0179 (approximately 1.79%). This indicates that, by the end of training, the model was able to recommend a few correct items within the top 20 recommendations for some users. But, overall, this performance is still very limited and suggests that the model has not effectively learned to make meaningful recommendations.\n",
        "\n",
        "Similarly, the NDCG@20 metric shows a slight increase during later epochs, reaching a value of 0.0081. NDCG measures the relevance and ranking quality of the recommended items. Although there is a minor improvement in the ranking of recommendations, the value is still quite low, indicating that the recommendations are not highly relevant or well-ranked.\n",
        "\n",
        "In summary, the SASRec model's current performance is inadequate, and there may be issues with the model architecture, hyperparameters, or training process that need to be addressed to achieve better results. Further investigation, experimentation, and fine-tuning are necessary to enhance the model's ability to make accurate and meaningful recommendations."
      ]
    },
    {
      "cell_type": "markdown",
      "metadata": {
        "id": "dVe-MeYLtYfH"
      },
      "source": [
        "**observation about the model performance on the test data**\n",
        "\n",
        "The model achieved a Recall of 0.019, which means that only 1.9% of the recommended items were actually relevant to the users. The NDCG@20 score was 0.008, indicating that the model's top 20 recommendations were not very relevant to the users. The Recall@10 and NDCG@10 scores were 0.012 and 0.006, respectively, suggesting that the model performed slightly better for the top 10 recommendations. However, the Recall@5 and NDCG@5 scores were only 0.007 and 0.004, respectively, indicating that the model was not very effective in recommending relevant items to users in the top 5 recommendations. Finally, the Recall@1 and NDCG@1 scores were both very low at 0.002, indicating that the model was not able to recommend very relevant items to users at the top of the list.\n",
        "\n",
        "Overall, these results suggest that the model may need further improvement in order to make more accurate and relevant recommendations to users."
      ]
    },
    {
      "cell_type": "markdown",
      "metadata": {
        "id": "SGsHhNcPwNoX"
      },
      "source": [
        "## comparing the performance of the two models on test data"
      ]
    },
    {
      "cell_type": "markdown",
      "metadata": {
        "id": "TzdklOuywgmX"
      },
      "source": [
        "**comparing the performance of the two models on the test data**\n",
        "\n",
        "\n",
        "Model 1 (from the first set of performance results):\n",
        "\n",
        "Recall@20: 0.0260\n",
        "NDCG@20: 0.0103\n",
        "Recall@10: 0.0157\n",
        "NDCG@10: 0.0077\n",
        "Recall@5: 0.00895\n",
        "NDCG@5: 0.0056\n",
        "Recall@1: 0.00225\n",
        "NDCG@1: 0.0022\n",
        "Model 2 (from the second set of performance results):\n",
        "\n",
        "Recall@20: 0.0191\n",
        "NDCG@20: 0.0079\n",
        "Recall@10: 0.0117\n",
        "NDCG@10: 0.0061\n",
        "Recall@5: 0.0065\n",
        "NDCG@5: 0.0044\n",
        "Recall@1: 0.00198\n",
        "NDCG@1: 0.0020\n",
        "Now, let's analyze the results:\n",
        "\n",
        "For all metrics (Recall@20, NDCG@20, Recall@10, NDCG@10, Recall@5, NDCG@5, Recall@1, NDCG@1), Model 1 outperforms Model 2. Higher values in these metrics indicate better performance.\n",
        "\n",
        "The improvement of Model 1 over Model 2 is consistent across the various metrics. For example, Model 1 has a higher Recall@20, Recall@10, and Recall@5, indicating that it performs better at recommending relevant items in the top 20, 10, and 5 positions, respectively.\n",
        "\n",
        "Based on this comparison, we can conclude that Model 1 is better than Model 2 in terms of performance on the test data. It provides higher recall values and better normalized discounted cumulative gain (NDCG) scores, indicating that it ranks relevant items higher and achieves better overall ranking quality."
      ]
    }
  ],
  "metadata": {
    "accelerator": "GPU",
    "colab": {
      "gpuType": "T4",
      "provenance": []
    },
    "kernelspec": {
      "display_name": "Python 3",
      "name": "python3"
    },
    "language_info": {
      "codemirror_mode": {
        "name": "ipython",
        "version": 3
      },
      "file_extension": ".py",
      "mimetype": "text/x-python",
      "name": "python",
      "nbconvert_exporter": "python",
      "pygments_lexer": "ipython3",
      "version": "3.10.11"
    },
    "orig_nbformat": 4
  },
  "nbformat": 4,
  "nbformat_minor": 0
}
